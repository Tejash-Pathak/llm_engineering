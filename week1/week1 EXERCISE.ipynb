{
 "cells": [
  {
   "cell_type": "markdown",
   "id": "fe12c203-e6a6-452c-a655-afb8a03a4ff5",
   "metadata": {},
   "source": [
    "# End of week 1 exercise\n",
    "\n",
    "To demonstrate your familiarity with OpenAI API, and also Ollama, build a tool that takes a technical question,  \n",
    "and responds with an explanation. This is a tool that you will be able to use yourself during the course!"
   ]
  },
  {
   "cell_type": "code",
   "execution_count": 1,
   "id": "c1070317-3ed9-4659-abe3-828943230e03",
   "metadata": {},
   "outputs": [],
   "source": [
    "# imports\n",
    "\n",
    "import os\n",
    "from dotenv import load_dotenv\n",
    "from IPython.display import Markdown, display, update_display\n",
    "from openai import OpenAI"
   ]
  },
  {
   "cell_type": "code",
   "execution_count": 2,
   "id": "4a456906-915a-4bfd-bb9d-57e505c5093f",
   "metadata": {},
   "outputs": [],
   "source": [
    "# constants\n",
    "\n",
    "MODEL_GPT = 'gpt-4o-mini'\n",
    "MODEL_LLAMA = 'llama3.2'\n"
   ]
  },
  {
   "cell_type": "code",
   "execution_count": 3,
   "id": "a8d7923c-5f28-4c30-8556-342d7c8497c1",
   "metadata": {},
   "outputs": [
    {
     "name": "stdout",
     "output_type": "stream",
     "text": [
      "API key looks good so far\n"
     ]
    }
   ],
   "source": [
    "# set up environment\n",
    "load_dotenv()\n",
    "api_key = os.getenv('OPENAI_API_KEY')\n",
    "\n",
    "if api_key and api_key.startswith('sk-proj-') and len(api_key)>10:\n",
    "    print(\"API key looks good so far\")\n",
    "else:\n",
    "    print(\"There might be a problem with your API key? Please visit the troubleshooting notebook!\")\n",
    "    \n",
    "MODEL = 'gpt-4o-mini'\n",
    "openai = OpenAI()"
   ]
  },
  {
   "cell_type": "code",
   "execution_count": 4,
   "id": "3f0d0137-52b0-47a8-81a8-11a90a010798",
   "metadata": {},
   "outputs": [],
   "source": [
    "# here is the question; type over this to ask something new\n",
    "\n",
    "question = \"\"\"\n",
    "Please explain what this code does and why:\n",
    "yield from {book.get(\"author\") for book in books if book.get(\"author\")}\n",
    "\"\"\""
   ]
  },
  {
   "cell_type": "code",
   "execution_count": 5,
   "id": "4f85482c",
   "metadata": {},
   "outputs": [],
   "source": [
    "system_prompt = \"You are a technical expert of all coding languages as well as maths and statistics. Using your expertise you must answer a questions the user has\""
   ]
  },
  {
   "cell_type": "code",
   "execution_count": 8,
   "id": "60ce7000-a4a5-4cce-a261-e75ef45063b4",
   "metadata": {},
   "outputs": [
    {
     "data": {
      "text/markdown": [
       "The code snippet you've provided is a Python expression that appears to be part of a generator function, focusing on extracting unique book authors from a collection of book records. Let's break it down:\n",
       "\n",
       "### Breakdown:\n",
       "\n",
       "1. **Set Comprehension`:**\n",
       "   - `{book.get(\"author\") for book in books if book.get(\"author\")}`:\n",
       "     - This is a set comprehension that iterates over each `book` in the `books` collection (which is assumed to be some iterable, like a list of dictionaries).\n",
       "     - `book.get(\"author\")`: This retrieves the value associated with the key `\"author\"` from each `book` dictionary. \n",
       "     - `if book.get(\"author\")`: This condition checks if the author exists and is not `None` or an empty string. If the author doesn't exist (i.e., if it's `None` or falsy), that particular book will be skipped.\n",
       "     - The `{}` denotes that we are creating a set, which will automatically handle duplicates, meaning only unique authors will be included.\n",
       "\n",
       "2. **`yield from`:**\n",
       "   - `yield from ...`: The keyword `yield` in Python is used to make a function a generator, which can be used to produce a series of values over time, instead of returning them all at once. \n",
       "   - `yield from` is specifically used to yield all values from an iterable. In this case, it yields all unique authors found in the previous set comprehension.\n",
       "\n",
       "### What Does the Code Do?\n",
       "\n",
       "Putting this all together, the code:\n",
       "- Iterates through a collection of book records,\n",
       "- Extracts the authors of the books,\n",
       "- Filters out books that do not have an author,\n",
       "- Creates a set of unique authors (to ensure there are no duplicates),\n",
       "- Yields each unique author one by one.\n",
       "\n",
       "### Why Use This Code?\n",
       "\n",
       "- **Efficiency**: Using a set comprehension ensures that only unique authors are stored, eliminating the overhead of checking for duplicates manually.\n",
       "- **Generator Functionality**: Utilizing `yield from` allows for efficient memory usage when dealing with potentially large data sets, as it produces values on-the-fly rather than all at once, which is advantageous if only a subset of authors is needed at any given time.\n",
       "- **Readability**: The code is concise and expresses its intent clearly, making it easier to understand and maintain.\n",
       "\n",
       "### Example Usage:\n",
       "\n",
       "If given a list of books like this:\n",
       "\n",
       "python\n",
       "books = [\n",
       "    {\"title\": \"Book A\", \"author\": \"Author 1\"},\n",
       "    {\"title\": \"Book B\", \"author\": \"Author 2\"},\n",
       "    {\"title\": \"Book C\", \"author\": \"Author 1\"},\n",
       "    {\"title\": \"Book D\", \"author\": None},\n",
       "    {\"title\": \"Book E\", \"author\": \"\"},\n",
       "]\n",
       "\n",
       "\n",
       "The generator will yield \"Author 1\" and \"Author 2\" when iterated over, as these are the unique authors in the collection."
      ],
      "text/plain": [
       "<IPython.core.display.Markdown object>"
      ]
     },
     "metadata": {},
     "output_type": "display_data"
    }
   ],
   "source": [
    "# Get gpt-4o-mini to answer, with streaming\n",
    "def answer_gpt(question):\n",
    "    stream = openai.chat.completions.create(\n",
    "        model=MODEL,\n",
    "        messages=[\n",
    "            {\"role\": \"system\", \"content\": system_prompt},\n",
    "            {\"role\": \"user\", \"content\": question}\n",
    "          ],\n",
    "        stream=True\n",
    "    )\n",
    "    \n",
    "    response = \"\"\n",
    "    display_handle = display(Markdown(\"\"), display_id=True)\n",
    "    for chunk in stream:\n",
    "        response += chunk.choices[0].delta.content or ''\n",
    "        response = response.replace(\"```\",\"\").replace(\"markdown\", \"\")\n",
    "        update_display(Markdown(response), display_id=display_handle.display_id)\n",
    "answer_gpt(question)"
   ]
  },
  {
   "cell_type": "code",
   "execution_count": 10,
   "id": "8f7c8ea8-4082-4ad0-8751-3301adcf6538",
   "metadata": {},
   "outputs": [
    {
     "name": "stdout",
     "output_type": "stream",
     "text": [
      "This line of code appears to be written in Python, given its use of `yield` and dictionary-like objects (represented by the `dict` type).\n",
      "\n",
      "Let's break it down:\n",
      "\n",
      "- `yield`: This is a keyword used in generators. Generators are special types of functions that can generate a sequence of values instead of computing them all at once and returning them in a list, for example.\n",
      "\n",
      "- `{book.get(\"author\") for book in books if book.get(\"author\")}`: This part is called an expression within the `yield` keyword. It's essentially saying \"for each item in `books`, yield this value\" with some conditions applied.\n",
      "\n",
      "  - `for book in books`: This part iterates over the elements of `books`.\n",
      "\n",
      "  - `if book.get(\"author\")`: If the current element has a key named `\"author\"` (and it returns `None` if it does not), then its value will be yielded. \n",
      "\n",
      "- `yield from {...}`: When used with a generator expression, this keyword takes all the values yielded by that expression and \"yields\" them directly, without needing to store them in memory.\n",
      "\n",
      "So overall, when you put these together, this line of code is essentially generating a list of authors for a list of books. It does so by:\n",
      "\n",
      "  - Checking each book in `books` to see if it has an `\"author\"` key.\n",
      "  - If the book has that key, then its author's name will be added to the generator expression.\n",
      "\n",
      "The reason we use this code is probably because working with large lists of data (like a list of books) can be inefficient. By using generators and `yield from`, we're creating a stream of values rather than all of them at once, which makes it more memory-efficient.\n",
      "\n",
      "Here's an example:\n",
      "\n",
      "```python\n",
      "# Creating the dictionaries for testing purposes.\n",
      "books = [\n",
      "    {\"title\": \"Book 1\", \"author\": \"Author 1\"},\n",
      "    {\"title\": \"Book 2\", \"author\": None},\n",
      "    {\"title\": \"Book 3\"}\n",
      "]\n",
      "\n",
      "def get_authors(books):\n",
      "    yield from {book.get(\"author\") for book in books if book.get(\"author\")}\n",
      "\n",
      "for author in get_authors(books):\n",
      "    print(author)\n",
      "```\n",
      "\n",
      "This will print:\n",
      "\n",
      "```\n",
      "Author 1\n",
      "None\n",
      "```\n"
     ]
    }
   ],
   "source": [
    "# Get Llama 3.2 to answer\n",
    "import ollama\n",
    "\n",
    "messages = [\n",
    "    {\"role\": \"user\", \"content\": f\"{system_prompt}\\n Here is the question:\\n {question}\"}\n",
    "]\n",
    "MODEL = \"llama3.2\"\n",
    "response = ollama.chat(model=MODEL, messages=messages)\n",
    "print(response['message']['content'])\n"
   ]
  },
  {
   "cell_type": "code",
   "execution_count": null,
   "id": "2b995275",
   "metadata": {},
   "outputs": [],
   "source": []
  }
 ],
 "metadata": {
  "kernelspec": {
   "display_name": "llms",
   "language": "python",
   "name": "python3"
  },
  "language_info": {
   "codemirror_mode": {
    "name": "ipython",
    "version": 3
   },
   "file_extension": ".py",
   "mimetype": "text/x-python",
   "name": "python",
   "nbconvert_exporter": "python",
   "pygments_lexer": "ipython3",
   "version": "3.11.11"
  }
 },
 "nbformat": 4,
 "nbformat_minor": 5
}
