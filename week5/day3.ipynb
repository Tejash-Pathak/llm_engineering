{
 "cells": [
  {
   "cell_type": "markdown",
   "id": "dfe37963-1af6-44fc-a841-8e462443f5e6",
   "metadata": {},
   "source": [
    "## Expert Knowledge Worker\n",
    "\n",
    "### A question answering agent that is an expert knowledge worker\n",
    "### To be used by employees of Insurellm, an Insurance Tech company\n",
    "### The agent needs to be accurate and the solution should be low cost.\n",
    "\n",
    "This project will use RAG (Retrieval Augmented Generation) to ensure our question/answering assistant has high accuracy."
   ]
  },
  {
   "cell_type": "code",
   "execution_count": 1,
   "id": "ba2779af-84ef-4227-9e9e-6eaf0df87e77",
   "metadata": {},
   "outputs": [],
   "source": [
    "# imports\n",
    "\n",
    "import os\n",
    "import glob\n",
    "from dotenv import load_dotenv\n",
    "import gradio as gr"
   ]
  },
  {
   "cell_type": "code",
   "execution_count": 2,
   "id": "2ca953c3",
   "metadata": {},
   "outputs": [
    {
     "name": "stdout",
     "output_type": "stream",
     "text": [
      "Requirement already satisfied: langchain in c:\\users\\tejas\\anaconda3\\envs\\llms\\lib\\site-packages (0.3.13)\n",
      "Requirement already satisfied: langchain-community in c:\\users\\tejas\\anaconda3\\envs\\llms\\lib\\site-packages (0.3.13)\n",
      "Requirement already satisfied: langchain-openai in c:\\users\\tejas\\anaconda3\\envs\\llms\\lib\\site-packages (0.2.14)\n",
      "Requirement already satisfied: chromadb in c:\\users\\tejas\\anaconda3\\envs\\llms\\lib\\site-packages (0.6.0)\n",
      "Requirement already satisfied: numpy in c:\\users\\tejas\\anaconda3\\envs\\llms\\lib\\site-packages (1.26.4)\n",
      "Requirement already satisfied: scikit-learn in c:\\users\\tejas\\anaconda3\\envs\\llms\\lib\\site-packages (1.6.0)\n",
      "Requirement already satisfied: plotly in c:\\users\\tejas\\anaconda3\\envs\\llms\\lib\\site-packages (5.24.1)\n",
      "Requirement already satisfied: PyYAML>=5.3 in c:\\users\\tejas\\anaconda3\\envs\\llms\\lib\\site-packages (from langchain) (6.0.2)\n",
      "Requirement already satisfied: SQLAlchemy<3,>=1.4 in c:\\users\\tejas\\anaconda3\\envs\\llms\\lib\\site-packages (from langchain) (2.0.36)\n",
      "Requirement already satisfied: aiohttp<4.0.0,>=3.8.3 in c:\\users\\tejas\\anaconda3\\envs\\llms\\lib\\site-packages (from langchain) (3.11.11)\n",
      "Requirement already satisfied: langchain-core<0.4.0,>=0.3.26 in c:\\users\\tejas\\anaconda3\\envs\\llms\\lib\\site-packages (from langchain) (0.3.28)\n",
      "Requirement already satisfied: langchain-text-splitters<0.4.0,>=0.3.3 in c:\\users\\tejas\\anaconda3\\envs\\llms\\lib\\site-packages (from langchain) (0.3.4)\n",
      "Requirement already satisfied: langsmith<0.3,>=0.1.17 in c:\\users\\tejas\\anaconda3\\envs\\llms\\lib\\site-packages (from langchain) (0.2.4)\n",
      "Requirement already satisfied: pydantic<3.0.0,>=2.7.4 in c:\\users\\tejas\\anaconda3\\envs\\llms\\lib\\site-packages (from langchain) (2.10.4)\n",
      "Requirement already satisfied: requests<3,>=2 in c:\\users\\tejas\\anaconda3\\envs\\llms\\lib\\site-packages (from langchain) (2.32.3)\n",
      "Requirement already satisfied: tenacity!=8.4.0,<10,>=8.1.0 in c:\\users\\tejas\\anaconda3\\envs\\llms\\lib\\site-packages (from langchain) (9.0.0)\n",
      "Requirement already satisfied: dataclasses-json<0.7,>=0.5.7 in c:\\users\\tejas\\anaconda3\\envs\\llms\\lib\\site-packages (from langchain-community) (0.6.7)\n",
      "Requirement already satisfied: httpx-sse<0.5.0,>=0.4.0 in c:\\users\\tejas\\anaconda3\\envs\\llms\\lib\\site-packages (from langchain-community) (0.4.0)\n",
      "Requirement already satisfied: pydantic-settings<3.0.0,>=2.4.0 in c:\\users\\tejas\\anaconda3\\envs\\llms\\lib\\site-packages (from langchain-community) (2.7.1)\n",
      "Requirement already satisfied: openai<2.0.0,>=1.58.1 in c:\\users\\tejas\\anaconda3\\envs\\llms\\lib\\site-packages (from langchain-openai) (1.58.1)\n",
      "Requirement already satisfied: tiktoken<1,>=0.7 in c:\\users\\tejas\\anaconda3\\envs\\llms\\lib\\site-packages (from langchain-openai) (0.8.0)\n",
      "Requirement already satisfied: build>=1.0.3 in c:\\users\\tejas\\anaconda3\\envs\\llms\\lib\\site-packages (from chromadb) (1.2.2.post1)\n",
      "Requirement already satisfied: chroma-hnswlib==0.7.6 in c:\\users\\tejas\\anaconda3\\envs\\llms\\lib\\site-packages (from chromadb) (0.7.6)\n",
      "Requirement already satisfied: fastapi>=0.95.2 in c:\\users\\tejas\\anaconda3\\envs\\llms\\lib\\site-packages (from chromadb) (0.115.6)\n",
      "Requirement already satisfied: uvicorn>=0.18.3 in c:\\users\\tejas\\anaconda3\\envs\\llms\\lib\\site-packages (from uvicorn[standard]>=0.18.3->chromadb) (0.34.0)\n",
      "Requirement already satisfied: posthog>=2.4.0 in c:\\users\\tejas\\anaconda3\\envs\\llms\\lib\\site-packages (from chromadb) (3.6.5)\n",
      "Requirement already satisfied: typing_extensions>=4.5.0 in c:\\users\\tejas\\anaconda3\\envs\\llms\\lib\\site-packages (from chromadb) (4.12.2)\n",
      "Requirement already satisfied: onnxruntime>=1.14.1 in c:\\users\\tejas\\anaconda3\\envs\\llms\\lib\\site-packages (from chromadb) (1.20.1)\n",
      "Requirement already satisfied: opentelemetry-api>=1.2.0 in c:\\users\\tejas\\anaconda3\\envs\\llms\\lib\\site-packages (from chromadb) (1.29.0)\n",
      "Requirement already satisfied: opentelemetry-exporter-otlp-proto-grpc>=1.2.0 in c:\\users\\tejas\\anaconda3\\envs\\llms\\lib\\site-packages (from chromadb) (1.29.0)\n",
      "Requirement already satisfied: opentelemetry-instrumentation-fastapi>=0.41b0 in c:\\users\\tejas\\anaconda3\\envs\\llms\\lib\\site-packages (from chromadb) (0.50b0)\n",
      "Requirement already satisfied: opentelemetry-sdk>=1.2.0 in c:\\users\\tejas\\anaconda3\\envs\\llms\\lib\\site-packages (from chromadb) (1.29.0)\n",
      "Requirement already satisfied: tokenizers>=0.13.2 in c:\\users\\tejas\\anaconda3\\envs\\llms\\lib\\site-packages (from chromadb) (0.21.0)\n",
      "Requirement already satisfied: pypika>=0.48.9 in c:\\users\\tejas\\anaconda3\\envs\\llms\\lib\\site-packages (from chromadb) (0.48.9)\n",
      "Requirement already satisfied: tqdm>=4.65.0 in c:\\users\\tejas\\anaconda3\\envs\\llms\\lib\\site-packages (from chromadb) (4.67.1)\n",
      "Requirement already satisfied: overrides>=7.3.1 in c:\\users\\tejas\\anaconda3\\envs\\llms\\lib\\site-packages (from chromadb) (7.7.0)\n",
      "Requirement already satisfied: importlib-resources in c:\\users\\tejas\\anaconda3\\envs\\llms\\lib\\site-packages (from chromadb) (6.4.5)\n",
      "Requirement already satisfied: grpcio>=1.58.0 in c:\\users\\tejas\\anaconda3\\envs\\llms\\lib\\site-packages (from chromadb) (1.68.1)\n",
      "Requirement already satisfied: bcrypt>=4.0.1 in c:\\users\\tejas\\anaconda3\\envs\\llms\\lib\\site-packages (from chromadb) (4.2.1)\n",
      "Requirement already satisfied: typer>=0.9.0 in c:\\users\\tejas\\anaconda3\\envs\\llms\\lib\\site-packages (from chromadb) (0.15.1)\n",
      "Requirement already satisfied: kubernetes>=28.1.0 in c:\\users\\tejas\\anaconda3\\envs\\llms\\lib\\site-packages (from chromadb) (31.0.0)\n",
      "Requirement already satisfied: mmh3>=4.0.1 in c:\\users\\tejas\\anaconda3\\envs\\llms\\lib\\site-packages (from chromadb) (5.0.1)\n",
      "Requirement already satisfied: orjson>=3.9.12 in c:\\users\\tejas\\anaconda3\\envs\\llms\\lib\\site-packages (from chromadb) (3.10.12)\n",
      "Requirement already satisfied: httpx>=0.27.0 in c:\\users\\tejas\\anaconda3\\envs\\llms\\lib\\site-packages (from chromadb) (0.27.2)\n",
      "Requirement already satisfied: rich>=10.11.0 in c:\\users\\tejas\\anaconda3\\envs\\llms\\lib\\site-packages (from chromadb) (13.9.4)\n",
      "Requirement already satisfied: scipy>=1.6.0 in c:\\users\\tejas\\anaconda3\\envs\\llms\\lib\\site-packages (from scikit-learn) (1.13.1)\n",
      "Requirement already satisfied: joblib>=1.2.0 in c:\\users\\tejas\\anaconda3\\envs\\llms\\lib\\site-packages (from scikit-learn) (1.4.2)\n",
      "Requirement already satisfied: threadpoolctl>=3.1.0 in c:\\users\\tejas\\anaconda3\\envs\\llms\\lib\\site-packages (from scikit-learn) (3.5.0)\n",
      "Requirement already satisfied: packaging in c:\\users\\tejas\\anaconda3\\envs\\llms\\lib\\site-packages (from plotly) (24.2)\n",
      "Requirement already satisfied: aiohappyeyeballs>=2.3.0 in c:\\users\\tejas\\anaconda3\\envs\\llms\\lib\\site-packages (from aiohttp<4.0.0,>=3.8.3->langchain) (2.4.4)\n",
      "Requirement already satisfied: aiosignal>=1.1.2 in c:\\users\\tejas\\anaconda3\\envs\\llms\\lib\\site-packages (from aiohttp<4.0.0,>=3.8.3->langchain) (1.3.2)\n",
      "Requirement already satisfied: attrs>=17.3.0 in c:\\users\\tejas\\anaconda3\\envs\\llms\\lib\\site-packages (from aiohttp<4.0.0,>=3.8.3->langchain) (24.3.0)\n",
      "Requirement already satisfied: frozenlist>=1.1.1 in c:\\users\\tejas\\anaconda3\\envs\\llms\\lib\\site-packages (from aiohttp<4.0.0,>=3.8.3->langchain) (1.5.0)\n",
      "Requirement already satisfied: multidict<7.0,>=4.5 in c:\\users\\tejas\\anaconda3\\envs\\llms\\lib\\site-packages (from aiohttp<4.0.0,>=3.8.3->langchain) (6.1.0)\n",
      "Requirement already satisfied: propcache>=0.2.0 in c:\\users\\tejas\\anaconda3\\envs\\llms\\lib\\site-packages (from aiohttp<4.0.0,>=3.8.3->langchain) (0.2.1)\n",
      "Requirement already satisfied: yarl<2.0,>=1.17.0 in c:\\users\\tejas\\anaconda3\\envs\\llms\\lib\\site-packages (from aiohttp<4.0.0,>=3.8.3->langchain) (1.18.3)\n",
      "Requirement already satisfied: pyproject_hooks in c:\\users\\tejas\\anaconda3\\envs\\llms\\lib\\site-packages (from build>=1.0.3->chromadb) (1.2.0)\n",
      "Requirement already satisfied: colorama in c:\\users\\tejas\\anaconda3\\envs\\llms\\lib\\site-packages (from build>=1.0.3->chromadb) (0.4.6)\n",
      "Requirement already satisfied: marshmallow<4.0.0,>=3.18.0 in c:\\users\\tejas\\anaconda3\\envs\\llms\\lib\\site-packages (from dataclasses-json<0.7,>=0.5.7->langchain-community) (3.23.2)\n",
      "Requirement already satisfied: typing-inspect<1,>=0.4.0 in c:\\users\\tejas\\anaconda3\\envs\\llms\\lib\\site-packages (from dataclasses-json<0.7,>=0.5.7->langchain-community) (0.9.0)\n",
      "Requirement already satisfied: starlette<0.42.0,>=0.40.0 in c:\\users\\tejas\\anaconda3\\envs\\llms\\lib\\site-packages (from fastapi>=0.95.2->chromadb) (0.41.3)\n",
      "Requirement already satisfied: anyio in c:\\users\\tejas\\anaconda3\\envs\\llms\\lib\\site-packages (from httpx>=0.27.0->chromadb) (4.7.0)\n",
      "Requirement already satisfied: certifi in c:\\users\\tejas\\anaconda3\\envs\\llms\\lib\\site-packages (from httpx>=0.27.0->chromadb) (2024.12.14)\n",
      "Requirement already satisfied: httpcore==1.* in c:\\users\\tejas\\anaconda3\\envs\\llms\\lib\\site-packages (from httpx>=0.27.0->chromadb) (1.0.7)\n",
      "Requirement already satisfied: idna in c:\\users\\tejas\\anaconda3\\envs\\llms\\lib\\site-packages (from httpx>=0.27.0->chromadb) (3.10)\n",
      "Requirement already satisfied: sniffio in c:\\users\\tejas\\anaconda3\\envs\\llms\\lib\\site-packages (from httpx>=0.27.0->chromadb) (1.3.1)\n",
      "Requirement already satisfied: h11<0.15,>=0.13 in c:\\users\\tejas\\anaconda3\\envs\\llms\\lib\\site-packages (from httpcore==1.*->httpx>=0.27.0->chromadb) (0.14.0)\n",
      "Requirement already satisfied: six>=1.9.0 in c:\\users\\tejas\\anaconda3\\envs\\llms\\lib\\site-packages (from kubernetes>=28.1.0->chromadb) (1.17.0)\n",
      "Requirement already satisfied: python-dateutil>=2.5.3 in c:\\users\\tejas\\anaconda3\\envs\\llms\\lib\\site-packages (from kubernetes>=28.1.0->chromadb) (2.9.0.post0)\n",
      "Requirement already satisfied: google-auth>=1.0.1 in c:\\users\\tejas\\anaconda3\\envs\\llms\\lib\\site-packages (from kubernetes>=28.1.0->chromadb) (2.37.0)\n",
      "Requirement already satisfied: websocket-client!=0.40.0,!=0.41.*,!=0.42.*,>=0.32.0 in c:\\users\\tejas\\anaconda3\\envs\\llms\\lib\\site-packages (from kubernetes>=28.1.0->chromadb) (1.8.0)\n",
      "Requirement already satisfied: requests-oauthlib in c:\\users\\tejas\\anaconda3\\envs\\llms\\lib\\site-packages (from kubernetes>=28.1.0->chromadb) (2.0.0)\n",
      "Requirement already satisfied: oauthlib>=3.2.2 in c:\\users\\tejas\\anaconda3\\envs\\llms\\lib\\site-packages (from kubernetes>=28.1.0->chromadb) (3.2.2)\n",
      "Requirement already satisfied: urllib3>=1.24.2 in c:\\users\\tejas\\anaconda3\\envs\\llms\\lib\\site-packages (from kubernetes>=28.1.0->chromadb) (2.3.0)\n",
      "Requirement already satisfied: durationpy>=0.7 in c:\\users\\tejas\\anaconda3\\envs\\llms\\lib\\site-packages (from kubernetes>=28.1.0->chromadb) (0.9)\n",
      "Requirement already satisfied: jsonpatch<2.0,>=1.33 in c:\\users\\tejas\\anaconda3\\envs\\llms\\lib\\site-packages (from langchain-core<0.4.0,>=0.3.26->langchain) (1.33)\n",
      "Requirement already satisfied: requests-toolbelt<2.0.0,>=1.0.0 in c:\\users\\tejas\\anaconda3\\envs\\llms\\lib\\site-packages (from langsmith<0.3,>=0.1.17->langchain) (1.0.0)\n",
      "Requirement already satisfied: coloredlogs in c:\\users\\tejas\\anaconda3\\envs\\llms\\lib\\site-packages (from onnxruntime>=1.14.1->chromadb) (15.0.1)\n",
      "Requirement already satisfied: flatbuffers in c:\\users\\tejas\\anaconda3\\envs\\llms\\lib\\site-packages (from onnxruntime>=1.14.1->chromadb) (24.3.25)\n",
      "Requirement already satisfied: protobuf in c:\\users\\tejas\\anaconda3\\envs\\llms\\lib\\site-packages (from onnxruntime>=1.14.1->chromadb) (5.28.2)\n",
      "Requirement already satisfied: sympy in c:\\users\\tejas\\anaconda3\\envs\\llms\\lib\\site-packages (from onnxruntime>=1.14.1->chromadb) (1.13.3)\n",
      "Requirement already satisfied: distro<2,>=1.7.0 in c:\\users\\tejas\\anaconda3\\envs\\llms\\lib\\site-packages (from openai<2.0.0,>=1.58.1->langchain-openai) (1.9.0)\n",
      "Requirement already satisfied: jiter<1,>=0.4.0 in c:\\users\\tejas\\anaconda3\\envs\\llms\\lib\\site-packages (from openai<2.0.0,>=1.58.1->langchain-openai) (0.8.2)\n",
      "Requirement already satisfied: deprecated>=1.2.6 in c:\\users\\tejas\\anaconda3\\envs\\llms\\lib\\site-packages (from opentelemetry-api>=1.2.0->chromadb) (1.2.15)\n",
      "Requirement already satisfied: importlib-metadata<=8.5.0,>=6.0 in c:\\users\\tejas\\anaconda3\\envs\\llms\\lib\\site-packages (from opentelemetry-api>=1.2.0->chromadb) (8.5.0)\n",
      "Requirement already satisfied: googleapis-common-protos~=1.52 in c:\\users\\tejas\\anaconda3\\envs\\llms\\lib\\site-packages (from opentelemetry-exporter-otlp-proto-grpc>=1.2.0->chromadb) (1.66.0)\n",
      "Requirement already satisfied: opentelemetry-exporter-otlp-proto-common==1.29.0 in c:\\users\\tejas\\anaconda3\\envs\\llms\\lib\\site-packages (from opentelemetry-exporter-otlp-proto-grpc>=1.2.0->chromadb) (1.29.0)\n",
      "Requirement already satisfied: opentelemetry-proto==1.29.0 in c:\\users\\tejas\\anaconda3\\envs\\llms\\lib\\site-packages (from opentelemetry-exporter-otlp-proto-grpc>=1.2.0->chromadb) (1.29.0)\n",
      "Requirement already satisfied: opentelemetry-instrumentation-asgi==0.50b0 in c:\\users\\tejas\\anaconda3\\envs\\llms\\lib\\site-packages (from opentelemetry-instrumentation-fastapi>=0.41b0->chromadb) (0.50b0)\n",
      "Requirement already satisfied: opentelemetry-instrumentation==0.50b0 in c:\\users\\tejas\\anaconda3\\envs\\llms\\lib\\site-packages (from opentelemetry-instrumentation-fastapi>=0.41b0->chromadb) (0.50b0)\n",
      "Requirement already satisfied: opentelemetry-semantic-conventions==0.50b0 in c:\\users\\tejas\\anaconda3\\envs\\llms\\lib\\site-packages (from opentelemetry-instrumentation-fastapi>=0.41b0->chromadb) (0.50b0)\n",
      "Requirement already satisfied: opentelemetry-util-http==0.50b0 in c:\\users\\tejas\\anaconda3\\envs\\llms\\lib\\site-packages (from opentelemetry-instrumentation-fastapi>=0.41b0->chromadb) (0.50b0)\n",
      "Requirement already satisfied: wrapt<2.0.0,>=1.0.0 in c:\\users\\tejas\\anaconda3\\envs\\llms\\lib\\site-packages (from opentelemetry-instrumentation==0.50b0->opentelemetry-instrumentation-fastapi>=0.41b0->chromadb) (1.17.0)\n",
      "Requirement already satisfied: asgiref~=3.0 in c:\\users\\tejas\\anaconda3\\envs\\llms\\lib\\site-packages (from opentelemetry-instrumentation-asgi==0.50b0->opentelemetry-instrumentation-fastapi>=0.41b0->chromadb) (3.8.1)\n",
      "Requirement already satisfied: monotonic>=1.5 in c:\\users\\tejas\\anaconda3\\envs\\llms\\lib\\site-packages (from posthog>=2.4.0->chromadb) (1.6)\n",
      "Requirement already satisfied: backoff>=1.10.0 in c:\\users\\tejas\\anaconda3\\envs\\llms\\lib\\site-packages (from posthog>=2.4.0->chromadb) (2.2.1)\n",
      "Requirement already satisfied: annotated-types>=0.6.0 in c:\\users\\tejas\\anaconda3\\envs\\llms\\lib\\site-packages (from pydantic<3.0.0,>=2.7.4->langchain) (0.7.0)\n",
      "Requirement already satisfied: pydantic-core==2.27.2 in c:\\users\\tejas\\anaconda3\\envs\\llms\\lib\\site-packages (from pydantic<3.0.0,>=2.7.4->langchain) (2.27.2)\n",
      "Requirement already satisfied: python-dotenv>=0.21.0 in c:\\users\\tejas\\anaconda3\\envs\\llms\\lib\\site-packages (from pydantic-settings<3.0.0,>=2.4.0->langchain-community) (1.0.1)\n",
      "Requirement already satisfied: charset_normalizer<4,>=2 in c:\\users\\tejas\\anaconda3\\envs\\llms\\lib\\site-packages (from requests<3,>=2->langchain) (3.4.0)\n",
      "Requirement already satisfied: markdown-it-py>=2.2.0 in c:\\users\\tejas\\anaconda3\\envs\\llms\\lib\\site-packages (from rich>=10.11.0->chromadb) (3.0.0)\n",
      "Requirement already satisfied: pygments<3.0.0,>=2.13.0 in c:\\users\\tejas\\anaconda3\\envs\\llms\\lib\\site-packages (from rich>=10.11.0->chromadb) (2.18.0)\n",
      "Requirement already satisfied: greenlet!=0.4.17 in c:\\users\\tejas\\anaconda3\\envs\\llms\\lib\\site-packages (from SQLAlchemy<3,>=1.4->langchain) (3.1.1)\n",
      "Requirement already satisfied: regex>=2022.1.18 in c:\\users\\tejas\\anaconda3\\envs\\llms\\lib\\site-packages (from tiktoken<1,>=0.7->langchain-openai) (2024.11.6)\n",
      "Requirement already satisfied: huggingface-hub<1.0,>=0.16.4 in c:\\users\\tejas\\anaconda3\\envs\\llms\\lib\\site-packages (from tokenizers>=0.13.2->chromadb) (0.26.5)\n",
      "Requirement already satisfied: click>=8.0.0 in c:\\users\\tejas\\anaconda3\\envs\\llms\\lib\\site-packages (from typer>=0.9.0->chromadb) (8.1.8)\n",
      "Requirement already satisfied: shellingham>=1.3.0 in c:\\users\\tejas\\anaconda3\\envs\\llms\\lib\\site-packages (from typer>=0.9.0->chromadb) (1.5.4)\n",
      "Requirement already satisfied: httptools>=0.6.3 in c:\\users\\tejas\\anaconda3\\envs\\llms\\lib\\site-packages (from uvicorn[standard]>=0.18.3->chromadb) (0.6.4)\n",
      "Requirement already satisfied: watchfiles>=0.13 in c:\\users\\tejas\\anaconda3\\envs\\llms\\lib\\site-packages (from uvicorn[standard]>=0.18.3->chromadb) (1.0.3)\n",
      "Requirement already satisfied: websockets>=10.4 in c:\\users\\tejas\\anaconda3\\envs\\llms\\lib\\site-packages (from uvicorn[standard]>=0.18.3->chromadb) (14.1)\n",
      "Requirement already satisfied: cachetools<6.0,>=2.0.0 in c:\\users\\tejas\\anaconda3\\envs\\llms\\lib\\site-packages (from google-auth>=1.0.1->kubernetes>=28.1.0->chromadb) (5.5.0)\n",
      "Requirement already satisfied: pyasn1-modules>=0.2.1 in c:\\users\\tejas\\anaconda3\\envs\\llms\\lib\\site-packages (from google-auth>=1.0.1->kubernetes>=28.1.0->chromadb) (0.4.1)\n",
      "Requirement already satisfied: rsa<5,>=3.1.4 in c:\\users\\tejas\\anaconda3\\envs\\llms\\lib\\site-packages (from google-auth>=1.0.1->kubernetes>=28.1.0->chromadb) (4.9)\n",
      "Requirement already satisfied: filelock in c:\\users\\tejas\\anaconda3\\envs\\llms\\lib\\site-packages (from huggingface-hub<1.0,>=0.16.4->tokenizers>=0.13.2->chromadb) (3.16.1)\n",
      "Requirement already satisfied: fsspec>=2023.5.0 in c:\\users\\tejas\\anaconda3\\envs\\llms\\lib\\site-packages (from huggingface-hub<1.0,>=0.16.4->tokenizers>=0.13.2->chromadb) (2024.9.0)\n",
      "Requirement already satisfied: zipp>=3.20 in c:\\users\\tejas\\anaconda3\\envs\\llms\\lib\\site-packages (from importlib-metadata<=8.5.0,>=6.0->opentelemetry-api>=1.2.0->chromadb) (3.21.0)\n",
      "Requirement already satisfied: jsonpointer>=1.9 in c:\\users\\tejas\\anaconda3\\envs\\llms\\lib\\site-packages (from jsonpatch<2.0,>=1.33->langchain-core<0.4.0,>=0.3.26->langchain) (3.0.0)\n",
      "Requirement already satisfied: mdurl~=0.1 in c:\\users\\tejas\\anaconda3\\envs\\llms\\lib\\site-packages (from markdown-it-py>=2.2.0->rich>=10.11.0->chromadb) (0.1.2)\n",
      "Requirement already satisfied: mypy-extensions>=0.3.0 in c:\\users\\tejas\\anaconda3\\envs\\llms\\lib\\site-packages (from typing-inspect<1,>=0.4.0->dataclasses-json<0.7,>=0.5.7->langchain-community) (1.0.0)\n",
      "Requirement already satisfied: humanfriendly>=9.1 in c:\\users\\tejas\\anaconda3\\envs\\llms\\lib\\site-packages (from coloredlogs->onnxruntime>=1.14.1->chromadb) (10.0)\n",
      "Requirement already satisfied: mpmath<1.4,>=1.1.0 in c:\\users\\tejas\\anaconda3\\envs\\llms\\lib\\site-packages (from sympy->onnxruntime>=1.14.1->chromadb) (1.3.0)\n",
      "Requirement already satisfied: pyreadline3 in c:\\users\\tejas\\anaconda3\\envs\\llms\\lib\\site-packages (from humanfriendly>=9.1->coloredlogs->onnxruntime>=1.14.1->chromadb) (0.0.0)\n",
      "Requirement already satisfied: pyasn1<0.7.0,>=0.4.6 in c:\\users\\tejas\\anaconda3\\envs\\llms\\lib\\site-packages (from pyasn1-modules>=0.2.1->google-auth>=1.0.1->kubernetes>=28.1.0->chromadb) (0.6.1)\n",
      "Note: you may need to restart the kernel to use updated packages.\n"
     ]
    }
   ],
   "source": [
    "pip install langchain langchain-community langchain-openai chromadb numpy scikit-learn plotly"
   ]
  },
  {
   "cell_type": "code",
   "execution_count": 3,
   "id": "570bf36b",
   "metadata": {},
   "outputs": [
    {
     "name": "stdout",
     "output_type": "stream",
     "text": [
      "Requirement already satisfied: pydantic in c:\\users\\tejas\\anaconda3\\envs\\llms\\lib\\site-packages (2.10.4)Note: you may need to restart the kernel to use updated packages.\n",
      "\n",
      "Requirement already satisfied: pydantic-settings in c:\\users\\tejas\\anaconda3\\envs\\llms\\lib\\site-packages (2.7.1)\n",
      "Requirement already satisfied: langchain in c:\\users\\tejas\\anaconda3\\envs\\llms\\lib\\site-packages (0.3.13)\n",
      "Requirement already satisfied: langchain-community in c:\\users\\tejas\\anaconda3\\envs\\llms\\lib\\site-packages (0.3.13)\n",
      "Requirement already satisfied: langchain-openai in c:\\users\\tejas\\anaconda3\\envs\\llms\\lib\\site-packages (0.2.14)\n",
      "Requirement already satisfied: chromadb in c:\\users\\tejas\\anaconda3\\envs\\llms\\lib\\site-packages (0.6.0)\n",
      "Requirement already satisfied: annotated-types>=0.6.0 in c:\\users\\tejas\\anaconda3\\envs\\llms\\lib\\site-packages (from pydantic) (0.7.0)\n",
      "Requirement already satisfied: pydantic-core==2.27.2 in c:\\users\\tejas\\anaconda3\\envs\\llms\\lib\\site-packages (from pydantic) (2.27.2)\n",
      "Requirement already satisfied: typing-extensions>=4.12.2 in c:\\users\\tejas\\anaconda3\\envs\\llms\\lib\\site-packages (from pydantic) (4.12.2)\n",
      "Requirement already satisfied: python-dotenv>=0.21.0 in c:\\users\\tejas\\anaconda3\\envs\\llms\\lib\\site-packages (from pydantic-settings) (1.0.1)\n",
      "Requirement already satisfied: PyYAML>=5.3 in c:\\users\\tejas\\anaconda3\\envs\\llms\\lib\\site-packages (from langchain) (6.0.2)\n",
      "Requirement already satisfied: SQLAlchemy<3,>=1.4 in c:\\users\\tejas\\anaconda3\\envs\\llms\\lib\\site-packages (from langchain) (2.0.36)\n",
      "Requirement already satisfied: aiohttp<4.0.0,>=3.8.3 in c:\\users\\tejas\\anaconda3\\envs\\llms\\lib\\site-packages (from langchain) (3.11.11)\n",
      "Requirement already satisfied: langchain-core<0.4.0,>=0.3.26 in c:\\users\\tejas\\anaconda3\\envs\\llms\\lib\\site-packages (from langchain) (0.3.28)\n",
      "Requirement already satisfied: langchain-text-splitters<0.4.0,>=0.3.3 in c:\\users\\tejas\\anaconda3\\envs\\llms\\lib\\site-packages (from langchain) (0.3.4)\n",
      "Requirement already satisfied: langsmith<0.3,>=0.1.17 in c:\\users\\tejas\\anaconda3\\envs\\llms\\lib\\site-packages (from langchain) (0.2.4)\n",
      "Requirement already satisfied: numpy<2,>=1.22.4 in c:\\users\\tejas\\anaconda3\\envs\\llms\\lib\\site-packages (from langchain) (1.26.4)\n",
      "Requirement already satisfied: requests<3,>=2 in c:\\users\\tejas\\anaconda3\\envs\\llms\\lib\\site-packages (from langchain) (2.32.3)\n",
      "Requirement already satisfied: tenacity!=8.4.0,<10,>=8.1.0 in c:\\users\\tejas\\anaconda3\\envs\\llms\\lib\\site-packages (from langchain) (9.0.0)\n",
      "Requirement already satisfied: dataclasses-json<0.7,>=0.5.7 in c:\\users\\tejas\\anaconda3\\envs\\llms\\lib\\site-packages (from langchain-community) (0.6.7)\n",
      "Requirement already satisfied: httpx-sse<0.5.0,>=0.4.0 in c:\\users\\tejas\\anaconda3\\envs\\llms\\lib\\site-packages (from langchain-community) (0.4.0)\n",
      "Requirement already satisfied: openai<2.0.0,>=1.58.1 in c:\\users\\tejas\\anaconda3\\envs\\llms\\lib\\site-packages (from langchain-openai) (1.58.1)\n",
      "Requirement already satisfied: tiktoken<1,>=0.7 in c:\\users\\tejas\\anaconda3\\envs\\llms\\lib\\site-packages (from langchain-openai) (0.8.0)\n",
      "Requirement already satisfied: build>=1.0.3 in c:\\users\\tejas\\anaconda3\\envs\\llms\\lib\\site-packages (from chromadb) (1.2.2.post1)\n",
      "Requirement already satisfied: chroma-hnswlib==0.7.6 in c:\\users\\tejas\\anaconda3\\envs\\llms\\lib\\site-packages (from chromadb) (0.7.6)\n",
      "Requirement already satisfied: fastapi>=0.95.2 in c:\\users\\tejas\\anaconda3\\envs\\llms\\lib\\site-packages (from chromadb) (0.115.6)\n",
      "Requirement already satisfied: uvicorn>=0.18.3 in c:\\users\\tejas\\anaconda3\\envs\\llms\\lib\\site-packages (from uvicorn[standard]>=0.18.3->chromadb) (0.34.0)\n",
      "Requirement already satisfied: posthog>=2.4.0 in c:\\users\\tejas\\anaconda3\\envs\\llms\\lib\\site-packages (from chromadb) (3.6.5)\n",
      "Requirement already satisfied: onnxruntime>=1.14.1 in c:\\users\\tejas\\anaconda3\\envs\\llms\\lib\\site-packages (from chromadb) (1.20.1)\n",
      "Requirement already satisfied: opentelemetry-api>=1.2.0 in c:\\users\\tejas\\anaconda3\\envs\\llms\\lib\\site-packages (from chromadb) (1.29.0)\n",
      "Requirement already satisfied: opentelemetry-exporter-otlp-proto-grpc>=1.2.0 in c:\\users\\tejas\\anaconda3\\envs\\llms\\lib\\site-packages (from chromadb) (1.29.0)\n",
      "Requirement already satisfied: opentelemetry-instrumentation-fastapi>=0.41b0 in c:\\users\\tejas\\anaconda3\\envs\\llms\\lib\\site-packages (from chromadb) (0.50b0)\n",
      "Requirement already satisfied: opentelemetry-sdk>=1.2.0 in c:\\users\\tejas\\anaconda3\\envs\\llms\\lib\\site-packages (from chromadb) (1.29.0)\n",
      "Requirement already satisfied: tokenizers>=0.13.2 in c:\\users\\tejas\\anaconda3\\envs\\llms\\lib\\site-packages (from chromadb) (0.21.0)\n",
      "Requirement already satisfied: pypika>=0.48.9 in c:\\users\\tejas\\anaconda3\\envs\\llms\\lib\\site-packages (from chromadb) (0.48.9)\n",
      "Requirement already satisfied: tqdm>=4.65.0 in c:\\users\\tejas\\anaconda3\\envs\\llms\\lib\\site-packages (from chromadb) (4.67.1)\n",
      "Requirement already satisfied: overrides>=7.3.1 in c:\\users\\tejas\\anaconda3\\envs\\llms\\lib\\site-packages (from chromadb) (7.7.0)\n",
      "Requirement already satisfied: importlib-resources in c:\\users\\tejas\\anaconda3\\envs\\llms\\lib\\site-packages (from chromadb) (6.4.5)\n",
      "Requirement already satisfied: grpcio>=1.58.0 in c:\\users\\tejas\\anaconda3\\envs\\llms\\lib\\site-packages (from chromadb) (1.68.1)\n",
      "Requirement already satisfied: bcrypt>=4.0.1 in c:\\users\\tejas\\anaconda3\\envs\\llms\\lib\\site-packages (from chromadb) (4.2.1)\n",
      "Requirement already satisfied: typer>=0.9.0 in c:\\users\\tejas\\anaconda3\\envs\\llms\\lib\\site-packages (from chromadb) (0.15.1)\n",
      "Requirement already satisfied: kubernetes>=28.1.0 in c:\\users\\tejas\\anaconda3\\envs\\llms\\lib\\site-packages (from chromadb) (31.0.0)\n",
      "Requirement already satisfied: mmh3>=4.0.1 in c:\\users\\tejas\\anaconda3\\envs\\llms\\lib\\site-packages (from chromadb) (5.0.1)\n",
      "Requirement already satisfied: orjson>=3.9.12 in c:\\users\\tejas\\anaconda3\\envs\\llms\\lib\\site-packages (from chromadb) (3.10.12)\n",
      "Requirement already satisfied: httpx>=0.27.0 in c:\\users\\tejas\\anaconda3\\envs\\llms\\lib\\site-packages (from chromadb) (0.27.2)\n",
      "Requirement already satisfied: rich>=10.11.0 in c:\\users\\tejas\\anaconda3\\envs\\llms\\lib\\site-packages (from chromadb) (13.9.4)\n",
      "Requirement already satisfied: aiohappyeyeballs>=2.3.0 in c:\\users\\tejas\\anaconda3\\envs\\llms\\lib\\site-packages (from aiohttp<4.0.0,>=3.8.3->langchain) (2.4.4)\n",
      "Requirement already satisfied: aiosignal>=1.1.2 in c:\\users\\tejas\\anaconda3\\envs\\llms\\lib\\site-packages (from aiohttp<4.0.0,>=3.8.3->langchain) (1.3.2)\n",
      "Requirement already satisfied: attrs>=17.3.0 in c:\\users\\tejas\\anaconda3\\envs\\llms\\lib\\site-packages (from aiohttp<4.0.0,>=3.8.3->langchain) (24.3.0)\n",
      "Requirement already satisfied: frozenlist>=1.1.1 in c:\\users\\tejas\\anaconda3\\envs\\llms\\lib\\site-packages (from aiohttp<4.0.0,>=3.8.3->langchain) (1.5.0)\n",
      "Requirement already satisfied: multidict<7.0,>=4.5 in c:\\users\\tejas\\anaconda3\\envs\\llms\\lib\\site-packages (from aiohttp<4.0.0,>=3.8.3->langchain) (6.1.0)\n",
      "Requirement already satisfied: propcache>=0.2.0 in c:\\users\\tejas\\anaconda3\\envs\\llms\\lib\\site-packages (from aiohttp<4.0.0,>=3.8.3->langchain) (0.2.1)\n",
      "Requirement already satisfied: yarl<2.0,>=1.17.0 in c:\\users\\tejas\\anaconda3\\envs\\llms\\lib\\site-packages (from aiohttp<4.0.0,>=3.8.3->langchain) (1.18.3)\n",
      "Requirement already satisfied: packaging>=19.1 in c:\\users\\tejas\\anaconda3\\envs\\llms\\lib\\site-packages (from build>=1.0.3->chromadb) (24.2)\n",
      "Requirement already satisfied: pyproject_hooks in c:\\users\\tejas\\anaconda3\\envs\\llms\\lib\\site-packages (from build>=1.0.3->chromadb) (1.2.0)\n",
      "Requirement already satisfied: colorama in c:\\users\\tejas\\anaconda3\\envs\\llms\\lib\\site-packages (from build>=1.0.3->chromadb) (0.4.6)\n",
      "Requirement already satisfied: marshmallow<4.0.0,>=3.18.0 in c:\\users\\tejas\\anaconda3\\envs\\llms\\lib\\site-packages (from dataclasses-json<0.7,>=0.5.7->langchain-community) (3.23.2)\n",
      "Requirement already satisfied: typing-inspect<1,>=0.4.0 in c:\\users\\tejas\\anaconda3\\envs\\llms\\lib\\site-packages (from dataclasses-json<0.7,>=0.5.7->langchain-community) (0.9.0)\n",
      "Requirement already satisfied: starlette<0.42.0,>=0.40.0 in c:\\users\\tejas\\anaconda3\\envs\\llms\\lib\\site-packages (from fastapi>=0.95.2->chromadb) (0.41.3)\n",
      "Requirement already satisfied: anyio in c:\\users\\tejas\\anaconda3\\envs\\llms\\lib\\site-packages (from httpx>=0.27.0->chromadb) (4.7.0)\n",
      "Requirement already satisfied: certifi in c:\\users\\tejas\\anaconda3\\envs\\llms\\lib\\site-packages (from httpx>=0.27.0->chromadb) (2024.12.14)\n",
      "Requirement already satisfied: httpcore==1.* in c:\\users\\tejas\\anaconda3\\envs\\llms\\lib\\site-packages (from httpx>=0.27.0->chromadb) (1.0.7)\n",
      "Requirement already satisfied: idna in c:\\users\\tejas\\anaconda3\\envs\\llms\\lib\\site-packages (from httpx>=0.27.0->chromadb) (3.10)\n",
      "Requirement already satisfied: sniffio in c:\\users\\tejas\\anaconda3\\envs\\llms\\lib\\site-packages (from httpx>=0.27.0->chromadb) (1.3.1)\n",
      "Requirement already satisfied: h11<0.15,>=0.13 in c:\\users\\tejas\\anaconda3\\envs\\llms\\lib\\site-packages (from httpcore==1.*->httpx>=0.27.0->chromadb) (0.14.0)\n",
      "Requirement already satisfied: six>=1.9.0 in c:\\users\\tejas\\anaconda3\\envs\\llms\\lib\\site-packages (from kubernetes>=28.1.0->chromadb) (1.17.0)\n",
      "Requirement already satisfied: python-dateutil>=2.5.3 in c:\\users\\tejas\\anaconda3\\envs\\llms\\lib\\site-packages (from kubernetes>=28.1.0->chromadb) (2.9.0.post0)\n",
      "Requirement already satisfied: google-auth>=1.0.1 in c:\\users\\tejas\\anaconda3\\envs\\llms\\lib\\site-packages (from kubernetes>=28.1.0->chromadb) (2.37.0)\n",
      "Requirement already satisfied: websocket-client!=0.40.0,!=0.41.*,!=0.42.*,>=0.32.0 in c:\\users\\tejas\\anaconda3\\envs\\llms\\lib\\site-packages (from kubernetes>=28.1.0->chromadb) (1.8.0)\n",
      "Requirement already satisfied: requests-oauthlib in c:\\users\\tejas\\anaconda3\\envs\\llms\\lib\\site-packages (from kubernetes>=28.1.0->chromadb) (2.0.0)\n",
      "Requirement already satisfied: oauthlib>=3.2.2 in c:\\users\\tejas\\anaconda3\\envs\\llms\\lib\\site-packages (from kubernetes>=28.1.0->chromadb) (3.2.2)\n",
      "Requirement already satisfied: urllib3>=1.24.2 in c:\\users\\tejas\\anaconda3\\envs\\llms\\lib\\site-packages (from kubernetes>=28.1.0->chromadb) (2.3.0)\n",
      "Requirement already satisfied: durationpy>=0.7 in c:\\users\\tejas\\anaconda3\\envs\\llms\\lib\\site-packages (from kubernetes>=28.1.0->chromadb) (0.9)\n",
      "Requirement already satisfied: jsonpatch<2.0,>=1.33 in c:\\users\\tejas\\anaconda3\\envs\\llms\\lib\\site-packages (from langchain-core<0.4.0,>=0.3.26->langchain) (1.33)\n",
      "Requirement already satisfied: requests-toolbelt<2.0.0,>=1.0.0 in c:\\users\\tejas\\anaconda3\\envs\\llms\\lib\\site-packages (from langsmith<0.3,>=0.1.17->langchain) (1.0.0)\n",
      "Requirement already satisfied: coloredlogs in c:\\users\\tejas\\anaconda3\\envs\\llms\\lib\\site-packages (from onnxruntime>=1.14.1->chromadb) (15.0.1)\n",
      "Requirement already satisfied: flatbuffers in c:\\users\\tejas\\anaconda3\\envs\\llms\\lib\\site-packages (from onnxruntime>=1.14.1->chromadb) (24.3.25)\n",
      "Requirement already satisfied: protobuf in c:\\users\\tejas\\anaconda3\\envs\\llms\\lib\\site-packages (from onnxruntime>=1.14.1->chromadb) (5.28.2)\n",
      "Requirement already satisfied: sympy in c:\\users\\tejas\\anaconda3\\envs\\llms\\lib\\site-packages (from onnxruntime>=1.14.1->chromadb) (1.13.3)\n",
      "Requirement already satisfied: distro<2,>=1.7.0 in c:\\users\\tejas\\anaconda3\\envs\\llms\\lib\\site-packages (from openai<2.0.0,>=1.58.1->langchain-openai) (1.9.0)\n",
      "Requirement already satisfied: jiter<1,>=0.4.0 in c:\\users\\tejas\\anaconda3\\envs\\llms\\lib\\site-packages (from openai<2.0.0,>=1.58.1->langchain-openai) (0.8.2)\n",
      "Requirement already satisfied: deprecated>=1.2.6 in c:\\users\\tejas\\anaconda3\\envs\\llms\\lib\\site-packages (from opentelemetry-api>=1.2.0->chromadb) (1.2.15)\n",
      "Requirement already satisfied: importlib-metadata<=8.5.0,>=6.0 in c:\\users\\tejas\\anaconda3\\envs\\llms\\lib\\site-packages (from opentelemetry-api>=1.2.0->chromadb) (8.5.0)\n",
      "Requirement already satisfied: googleapis-common-protos~=1.52 in c:\\users\\tejas\\anaconda3\\envs\\llms\\lib\\site-packages (from opentelemetry-exporter-otlp-proto-grpc>=1.2.0->chromadb) (1.66.0)\n",
      "Requirement already satisfied: opentelemetry-exporter-otlp-proto-common==1.29.0 in c:\\users\\tejas\\anaconda3\\envs\\llms\\lib\\site-packages (from opentelemetry-exporter-otlp-proto-grpc>=1.2.0->chromadb) (1.29.0)\n",
      "Requirement already satisfied: opentelemetry-proto==1.29.0 in c:\\users\\tejas\\anaconda3\\envs\\llms\\lib\\site-packages (from opentelemetry-exporter-otlp-proto-grpc>=1.2.0->chromadb) (1.29.0)\n",
      "Requirement already satisfied: opentelemetry-instrumentation-asgi==0.50b0 in c:\\users\\tejas\\anaconda3\\envs\\llms\\lib\\site-packages (from opentelemetry-instrumentation-fastapi>=0.41b0->chromadb) (0.50b0)\n",
      "Requirement already satisfied: opentelemetry-instrumentation==0.50b0 in c:\\users\\tejas\\anaconda3\\envs\\llms\\lib\\site-packages (from opentelemetry-instrumentation-fastapi>=0.41b0->chromadb) (0.50b0)\n",
      "Requirement already satisfied: opentelemetry-semantic-conventions==0.50b0 in c:\\users\\tejas\\anaconda3\\envs\\llms\\lib\\site-packages (from opentelemetry-instrumentation-fastapi>=0.41b0->chromadb) (0.50b0)\n",
      "Requirement already satisfied: opentelemetry-util-http==0.50b0 in c:\\users\\tejas\\anaconda3\\envs\\llms\\lib\\site-packages (from opentelemetry-instrumentation-fastapi>=0.41b0->chromadb) (0.50b0)\n",
      "Requirement already satisfied: wrapt<2.0.0,>=1.0.0 in c:\\users\\tejas\\anaconda3\\envs\\llms\\lib\\site-packages (from opentelemetry-instrumentation==0.50b0->opentelemetry-instrumentation-fastapi>=0.41b0->chromadb) (1.17.0)\n",
      "Requirement already satisfied: asgiref~=3.0 in c:\\users\\tejas\\anaconda3\\envs\\llms\\lib\\site-packages (from opentelemetry-instrumentation-asgi==0.50b0->opentelemetry-instrumentation-fastapi>=0.41b0->chromadb) (3.8.1)\n",
      "Requirement already satisfied: monotonic>=1.5 in c:\\users\\tejas\\anaconda3\\envs\\llms\\lib\\site-packages (from posthog>=2.4.0->chromadb) (1.6)\n",
      "Requirement already satisfied: backoff>=1.10.0 in c:\\users\\tejas\\anaconda3\\envs\\llms\\lib\\site-packages (from posthog>=2.4.0->chromadb) (2.2.1)\n",
      "Requirement already satisfied: charset_normalizer<4,>=2 in c:\\users\\tejas\\anaconda3\\envs\\llms\\lib\\site-packages (from requests<3,>=2->langchain) (3.4.0)\n",
      "Requirement already satisfied: markdown-it-py>=2.2.0 in c:\\users\\tejas\\anaconda3\\envs\\llms\\lib\\site-packages (from rich>=10.11.0->chromadb) (3.0.0)\n",
      "Requirement already satisfied: pygments<3.0.0,>=2.13.0 in c:\\users\\tejas\\anaconda3\\envs\\llms\\lib\\site-packages (from rich>=10.11.0->chromadb) (2.18.0)\n",
      "Requirement already satisfied: greenlet!=0.4.17 in c:\\users\\tejas\\anaconda3\\envs\\llms\\lib\\site-packages (from SQLAlchemy<3,>=1.4->langchain) (3.1.1)\n",
      "Requirement already satisfied: regex>=2022.1.18 in c:\\users\\tejas\\anaconda3\\envs\\llms\\lib\\site-packages (from tiktoken<1,>=0.7->langchain-openai) (2024.11.6)\n",
      "Requirement already satisfied: huggingface-hub<1.0,>=0.16.4 in c:\\users\\tejas\\anaconda3\\envs\\llms\\lib\\site-packages (from tokenizers>=0.13.2->chromadb) (0.26.5)\n",
      "Requirement already satisfied: click>=8.0.0 in c:\\users\\tejas\\anaconda3\\envs\\llms\\lib\\site-packages (from typer>=0.9.0->chromadb) (8.1.8)\n",
      "Requirement already satisfied: shellingham>=1.3.0 in c:\\users\\tejas\\anaconda3\\envs\\llms\\lib\\site-packages (from typer>=0.9.0->chromadb) (1.5.4)\n",
      "Requirement already satisfied: httptools>=0.6.3 in c:\\users\\tejas\\anaconda3\\envs\\llms\\lib\\site-packages (from uvicorn[standard]>=0.18.3->chromadb) (0.6.4)\n",
      "Requirement already satisfied: watchfiles>=0.13 in c:\\users\\tejas\\anaconda3\\envs\\llms\\lib\\site-packages (from uvicorn[standard]>=0.18.3->chromadb) (1.0.3)\n",
      "Requirement already satisfied: websockets>=10.4 in c:\\users\\tejas\\anaconda3\\envs\\llms\\lib\\site-packages (from uvicorn[standard]>=0.18.3->chromadb) (14.1)\n",
      "Requirement already satisfied: cachetools<6.0,>=2.0.0 in c:\\users\\tejas\\anaconda3\\envs\\llms\\lib\\site-packages (from google-auth>=1.0.1->kubernetes>=28.1.0->chromadb) (5.5.0)\n",
      "Requirement already satisfied: pyasn1-modules>=0.2.1 in c:\\users\\tejas\\anaconda3\\envs\\llms\\lib\\site-packages (from google-auth>=1.0.1->kubernetes>=28.1.0->chromadb) (0.4.1)\n",
      "Requirement already satisfied: rsa<5,>=3.1.4 in c:\\users\\tejas\\anaconda3\\envs\\llms\\lib\\site-packages (from google-auth>=1.0.1->kubernetes>=28.1.0->chromadb) (4.9)\n",
      "Requirement already satisfied: filelock in c:\\users\\tejas\\anaconda3\\envs\\llms\\lib\\site-packages (from huggingface-hub<1.0,>=0.16.4->tokenizers>=0.13.2->chromadb) (3.16.1)\n",
      "Requirement already satisfied: fsspec>=2023.5.0 in c:\\users\\tejas\\anaconda3\\envs\\llms\\lib\\site-packages (from huggingface-hub<1.0,>=0.16.4->tokenizers>=0.13.2->chromadb) (2024.9.0)\n",
      "Requirement already satisfied: zipp>=3.20 in c:\\users\\tejas\\anaconda3\\envs\\llms\\lib\\site-packages (from importlib-metadata<=8.5.0,>=6.0->opentelemetry-api>=1.2.0->chromadb) (3.21.0)\n",
      "Requirement already satisfied: jsonpointer>=1.9 in c:\\users\\tejas\\anaconda3\\envs\\llms\\lib\\site-packages (from jsonpatch<2.0,>=1.33->langchain-core<0.4.0,>=0.3.26->langchain) (3.0.0)\n",
      "Requirement already satisfied: mdurl~=0.1 in c:\\users\\tejas\\anaconda3\\envs\\llms\\lib\\site-packages (from markdown-it-py>=2.2.0->rich>=10.11.0->chromadb) (0.1.2)\n",
      "Requirement already satisfied: mypy-extensions>=0.3.0 in c:\\users\\tejas\\anaconda3\\envs\\llms\\lib\\site-packages (from typing-inspect<1,>=0.4.0->dataclasses-json<0.7,>=0.5.7->langchain-community) (1.0.0)\n",
      "Requirement already satisfied: humanfriendly>=9.1 in c:\\users\\tejas\\anaconda3\\envs\\llms\\lib\\site-packages (from coloredlogs->onnxruntime>=1.14.1->chromadb) (10.0)\n",
      "Requirement already satisfied: mpmath<1.4,>=1.1.0 in c:\\users\\tejas\\anaconda3\\envs\\llms\\lib\\site-packages (from sympy->onnxruntime>=1.14.1->chromadb) (1.3.0)\n",
      "Requirement already satisfied: pyreadline3 in c:\\users\\tejas\\anaconda3\\envs\\llms\\lib\\site-packages (from humanfriendly>=9.1->coloredlogs->onnxruntime>=1.14.1->chromadb) (0.0.0)\n",
      "Requirement already satisfied: pyasn1<0.7.0,>=0.4.6 in c:\\users\\tejas\\anaconda3\\envs\\llms\\lib\\site-packages (from pyasn1-modules>=0.2.1->google-auth>=1.0.1->kubernetes>=28.1.0->chromadb) (0.6.1)\n"
     ]
    }
   ],
   "source": [
    "%pip install --upgrade pydantic pydantic-settings langchain langchain-community langchain-openai chromadb"
   ]
  },
  {
   "cell_type": "code",
   "execution_count": 2,
   "id": "802137aa-8a74-45e0-a487-d1974927d7ca",
   "metadata": {},
   "outputs": [],
   "source": [
    "# imports for langchain and Chroma and plotly\n",
    "\n",
    "from langchain_community.document_loaders import DirectoryLoader, TextLoader\n",
    "from langchain.text_splitter import CharacterTextSplitter\n",
    "from langchain.schema import Document\n",
    "from langchain_openai import OpenAIEmbeddings, ChatOpenAI\n",
    "from langchain_community.vectorstores import Chroma  # Changed this line\n",
    "import numpy as np\n",
    "from sklearn.manifold import TSNE\n",
    "import plotly.graph_objects as go"
   ]
  },
  {
   "cell_type": "code",
   "execution_count": 3,
   "id": "58c85082-e417-4708-9efe-81a5d55d1424",
   "metadata": {},
   "outputs": [],
   "source": [
    "# price is a factor for our company, so we're going to use a low cost model\n",
    "\n",
    "MODEL = \"gpt-4o-mini\"\n",
    "db_name = \"vector_db\""
   ]
  },
  {
   "cell_type": "code",
   "execution_count": 4,
   "id": "ee78efcb-60fe-449e-a944-40bab26261af",
   "metadata": {},
   "outputs": [],
   "source": [
    "# Load environment variables in a file called .env\n",
    "\n",
    "load_dotenv()\n",
    "os.environ['OPENAI_API_KEY'] = os.getenv('OPENAI_API_KEY', 'your-key-if-not-using-env')"
   ]
  },
  {
   "cell_type": "code",
   "execution_count": 5,
   "id": "730711a9-6ffe-4eee-8f48-d6cfb7314905",
   "metadata": {},
   "outputs": [],
   "source": [
    "# Read in documents using LangChain's loaders\n",
    "# Take everything in all the sub-folders of our knowledgebase\n",
    "\n",
    "folders = glob.glob(\"knowledge-base/*\")\n",
    "\n",
    "# With thanks to CG and Jon R, students on the course, for this fix needed for some users \n",
    "text_loader_kwargs = {'encoding': 'utf-8'}\n",
    "# If that doesn't work, some Windows users might need to uncomment the next line instead\n",
    "# text_loader_kwargs={'autodetect_encoding': True}\n",
    "\n",
    "documents = []\n",
    "for folder in folders:\n",
    "    doc_type = os.path.basename(folder)\n",
    "    loader = DirectoryLoader(folder, glob=\"**/*.md\", loader_cls=TextLoader, loader_kwargs=text_loader_kwargs)\n",
    "    folder_docs = loader.load()\n",
    "    for doc in folder_docs:\n",
    "        doc.metadata[\"doc_type\"] = doc_type\n",
    "        documents.append(doc)"
   ]
  },
  {
   "cell_type": "markdown",
   "id": "f065d4b1-80b7-4e15-abd4-60a83e752ea8",
   "metadata": {},
   "source": [
    "# Please note:\n",
    "\n",
    "In the next cell, we split the text into chunks.\n",
    "\n",
    "2 students let me know that the next cell crashed their computer.  \n",
    "They were able to fix it by changing the chunk_size from 1,000 to 2,000 and the chunk_overlap from 200 to 400.  \n",
    "This shouldn't be required; but if it happens to you, please make that change!  \n",
    "(Note that LangChain may give a warning about a chunk being larger than 1,000 - this can be safely ignored).\n",
    "\n",
    "_With much thanks to Steven W and Nir P for this valuable contribution._"
   ]
  },
  {
   "cell_type": "code",
   "execution_count": 6,
   "id": "7310c9c8-03c1-4efc-a104-5e89aec6db1a",
   "metadata": {},
   "outputs": [
    {
     "name": "stderr",
     "output_type": "stream",
     "text": [
      "Created a chunk of size 1088, which is longer than the specified 1000\n"
     ]
    }
   ],
   "source": [
    "text_splitter = CharacterTextSplitter(chunk_size=1000, chunk_overlap=200)\n",
    "chunks = text_splitter.split_documents(documents)"
   ]
  },
  {
   "cell_type": "code",
   "execution_count": 7,
   "id": "cd06e02f-6d9b-44cc-a43d-e1faa8acc7bb",
   "metadata": {},
   "outputs": [
    {
     "data": {
      "text/plain": [
       "123"
      ]
     },
     "execution_count": 7,
     "metadata": {},
     "output_type": "execute_result"
    }
   ],
   "source": [
    "len(chunks)"
   ]
  },
  {
   "cell_type": "code",
   "execution_count": 8,
   "id": "2c54b4b6-06da-463d-bee7-4dd456c2b887",
   "metadata": {},
   "outputs": [
    {
     "name": "stdout",
     "output_type": "stream",
     "text": [
      "Document types found: company, contracts, products, employees\n"
     ]
    }
   ],
   "source": [
    "doc_types = set(chunk.metadata['doc_type'] for chunk in chunks)\n",
    "print(f\"Document types found: {', '.join(doc_types)}\")"
   ]
  },
  {
   "cell_type": "markdown",
   "id": "77f7d2a6-ccfa-425b-a1c3-5e55b23bd013",
   "metadata": {},
   "source": [
    "## A sidenote on Embeddings, and \"Auto-Encoding LLMs\"\n",
    "\n",
    "We will be mapping each chunk of text into a Vector that represents the meaning of the text, known as an embedding.\n",
    "\n",
    "OpenAI offers a model to do this, which we will use by calling their API with some LangChain code.\n",
    "\n",
    "This model is an example of an \"Auto-Encoding LLM\" which generates an output given a complete input.\n",
    "It's different to all the other LLMs we've discussed today, which are known as \"Auto-Regressive LLMs\", and generate future tokens based only on past context.\n",
    "\n",
    "Another example of an Auto-Encoding LLMs is BERT from Google. In addition to embedding, Auto-encoding LLMs are often used for classification.\n",
    "\n",
    "### Sidenote\n",
    "\n",
    "In week 8 we will return to RAG and vector embeddings, and we will use an open-source vector encoder so that the data never leaves our computer - that's an important consideration when building enterprise systems and the data needs to remain internal."
   ]
  },
  {
   "cell_type": "code",
   "execution_count": 9,
   "id": "78998399-ac17-4e28-b15f-0b5f51e6ee23",
   "metadata": {},
   "outputs": [],
   "source": [
    "# Put the chunks of data into a Vector Store that associates a Vector Embedding with each chunk\n",
    "\n",
    "embeddings = OpenAIEmbeddings()"
   ]
  },
  {
   "cell_type": "code",
   "execution_count": 10,
   "id": "763e51ff-5787-4a56-8176-36b7c5796fe3",
   "metadata": {},
   "outputs": [
    {
     "name": "stderr",
     "output_type": "stream",
     "text": [
      "C:\\Users\\tejas\\AppData\\Local\\Temp\\ipykernel_3904\\2772129798.py:4: LangChainDeprecationWarning: The class `Chroma` was deprecated in LangChain 0.2.9 and will be removed in 1.0. An updated version of the class exists in the :class:`~langchain-chroma package and should be used instead. To use it run `pip install -U :class:`~langchain-chroma` and import as `from :class:`~langchain_chroma import Chroma``.\n",
      "  Chroma(persist_directory=db_name, embedding_function=embeddings).delete_collection()\n"
     ]
    }
   ],
   "source": [
    "# Check if a Chroma Datastore already exists - if so, delete the collection to start from scratch\n",
    "\n",
    "if os.path.exists(db_name):\n",
    "    Chroma(persist_directory=db_name, embedding_function=embeddings).delete_collection()"
   ]
  },
  {
   "cell_type": "code",
   "execution_count": 11,
   "id": "99fe3a37-480f-4d55-be48-120588d5846b",
   "metadata": {},
   "outputs": [
    {
     "name": "stdout",
     "output_type": "stream",
     "text": [
      "Vectorstore created with 123 documents\n"
     ]
    }
   ],
   "source": [
    "# Create our Chroma vectorstore!\n",
    "\n",
    "vectorstore = Chroma.from_documents(documents=chunks, embedding=embeddings, persist_directory=db_name)\n",
    "print(f\"Vectorstore created with {vectorstore._collection.count()} documents\")"
   ]
  },
  {
   "cell_type": "code",
   "execution_count": 12,
   "id": "057868f6-51a6-4087-94d1-380145821550",
   "metadata": {},
   "outputs": [
    {
     "name": "stdout",
     "output_type": "stream",
     "text": [
      "The vectors have 1,536 dimensions\n"
     ]
    }
   ],
   "source": [
    "# Get one vector and find how many dimensions it has\n",
    "\n",
    "collection = vectorstore._collection\n",
    "sample_embedding = collection.get(limit=1, include=[\"embeddings\"])[\"embeddings\"][0]\n",
    "dimensions = len(sample_embedding)\n",
    "print(f\"The vectors have {dimensions:,} dimensions\")"
   ]
  },
  {
   "cell_type": "code",
   "execution_count": null,
   "id": "61e393a0-dd4c-419f-842f-60c1cb3b716b",
   "metadata": {},
   "outputs": [],
   "source": []
  },
  {
   "cell_type": "markdown",
   "id": "b0d45462-a818-441c-b010-b85b32bcf618",
   "metadata": {},
   "source": [
    "## Visualizing the Vector Store\n",
    "\n",
    "Let's take a minute to look at the documents and their embedding vectors to see what's going on."
   ]
  },
  {
   "cell_type": "code",
   "execution_count": 13,
   "id": "b98adf5e-d464-4bd2-9bdf-bc5b6770263b",
   "metadata": {},
   "outputs": [],
   "source": [
    "# Prework\n",
    "\n",
    "result = collection.get(include=['embeddings', 'documents', 'metadatas'])\n",
    "vectors = np.array(result['embeddings'])\n",
    "documents = result['documents']\n",
    "doc_types = [metadata['doc_type'] for metadata in result['metadatas']]\n",
    "colors = [['blue', 'green', 'red', 'orange'][['products', 'employees', 'contracts', 'company'].index(t)] for t in doc_types]"
   ]
  },
  {
   "cell_type": "code",
   "execution_count": 16,
   "id": "427149d5-e5d8-4abd-bb6f-7ef0333cca21",
   "metadata": {},
   "outputs": [
    {
     "data": {
      "application/vnd.plotly.v1+json": {
       "config": {
        "plotlyServerURL": "https://plot.ly"
       },
       "data": [
        {
         "hoverinfo": "text",
         "marker": {
          "color": [
           "orange",
           "orange",
           "orange",
           "red",
           "red",
           "red",
           "red",
           "red",
           "red",
           "red",
           "red",
           "red",
           "red",
           "red",
           "red",
           "red",
           "red",
           "red",
           "red",
           "red",
           "red",
           "red",
           "red",
           "red",
           "red",
           "red",
           "red",
           "red",
           "red",
           "red",
           "red",
           "red",
           "red",
           "red",
           "red",
           "red",
           "red",
           "red",
           "red",
           "red",
           "red",
           "red",
           "red",
           "red",
           "red",
           "red",
           "red",
           "red",
           "red",
           "red",
           "red",
           "red",
           "red",
           "red",
           "red",
           "green",
           "green",
           "green",
           "green",
           "green",
           "green",
           "green",
           "green",
           "green",
           "green",
           "green",
           "green",
           "green",
           "green",
           "green",
           "green",
           "green",
           "green",
           "green",
           "green",
           "green",
           "green",
           "green",
           "green",
           "green",
           "green",
           "green",
           "green",
           "green",
           "green",
           "green",
           "green",
           "green",
           "green",
           "green",
           "green",
           "green",
           "green",
           "green",
           "green",
           "green",
           "green",
           "green",
           "green",
           "green",
           "green",
           "green",
           "blue",
           "blue",
           "blue",
           "blue",
           "blue",
           "blue",
           "blue",
           "blue",
           "blue",
           "blue",
           "blue",
           "blue",
           "blue",
           "blue",
           "blue",
           "blue",
           "blue",
           "blue",
           "blue",
           "blue",
           "blue"
          ],
          "opacity": 0.8,
          "size": 5
         },
         "mode": "markers",
         "text": [
          "Type: company<br>Text: # About Insurellm\n\nInsurellm was founded by Avery Lancaster in 2015 as an insurance tech startup des...",
          "Type: company<br>Text: # Careers at Insurellm\n\nInsurellm is hiring! We are looking for talented software engineers, data sc...",
          "Type: company<br>Text: # Overview of Insurellm\n\nInsurellm is an innovative insurance tech firm with 200 employees across th...",
          "Type: contracts<br>Text: # Contract with Apex Reinsurance for Rellm: AI-Powered Enterprise Reinsurance Solution\n\n## Terms\n\n1....",
          "Type: contracts<br>Text: ## Renewal\n\n1. **Automatic Renewal**: This Agreement will automatically renew for successive one-yea...",
          "Type: contracts<br>Text: 2. **Seamless Integrations**: The architecture of Rellm allows for easy integration with existing sy...",
          "Type: contracts<br>Text: 1. **Technical Support**: Provider shall offer dedicated technical support to the Client via phone, ...",
          "Type: contracts<br>Text: **Insurellm, Inc.**  \n_____________________________  \nAuthorized Signature   \nDate: ________________...",
          "Type: contracts<br>Text: # Contract with Belvedere Insurance for Markellm\n\n## Terms\nThis Contract (\"Agreement\") is made and e...",
          "Type: contracts<br>Text: ## Renewal\n1. **Renewal Terms**: This Agreement may be renewed for additional one-year terms upon mu...",
          "Type: contracts<br>Text: ## Features\n1. **AI-Powered Matching**: Belvedere Insurance will benefit from Markellm's AI-powered ...",
          "Type: contracts<br>Text: ## Support\n1. **Technical Support**: Technical support will be available from 9 AM to 7 PM EST, Mond...",
          "Type: contracts<br>Text: **Belvedere Insurance**  \nSignature: ______________________  \nName: [Authorized Signatory]  \nTitle: ...",
          "Type: contracts<br>Text: # Contract with BrightWay Solutions for Markellm\n\n**Contract Date:** October 5, 2023  \n**Contract ID...",
          "Type: contracts<br>Text: 3. **Service Level Agreement (SLA):**  \n   Insurellm commits to a 99.9% uptime for the platform with...",
          "Type: contracts<br>Text: 2. **Real-Time Quote Availability:**  \n   Consumers sourced via BrightWay Solutions will receive rea...",
          "Type: contracts<br>Text: 3. **Training and Onboarding:**  \n   Insurellm agrees to provide one free training session on how to...",
          "Type: contracts<br>Text: # Contract with EverGuard Insurance for Rellm: AI-Powered Enterprise Reinsurance Solution\n\n**Contrac...",
          "Type: contracts<br>Text: 4. **Usage Rights**: EverGuard Insurance is granted a non-exclusive, non-transferable license to acc...",
          "Type: contracts<br>Text: 1. **Core Functionality**: Rellm provides EverGuard Insurance with advanced AI-driven analytics, sea...",
          "Type: contracts<br>Text: 1. **Customer Support**: Insurellm will provide EverGuard Insurance with 24/7 customer support, incl...",
          "Type: contracts<br>Text: ---\n\n**Signatures**  \n**For Insurellm**: __________________________  \n**Name**: John Smith  \n**Title...",
          "Type: contracts<br>Text: # Contract with GreenField Holdings for Markellm\n\n**Effective Date:** November 15, 2023  \n**Contract...",
          "Type: contracts<br>Text: ## Renewal\n1. **Automatic Renewal**: This contract will automatically renew for sequential one-year ...",
          "Type: contracts<br>Text: ## Features\n1. **AI-Powered Matching**: Access to advanced algorithms that connect GreenField Holdin...",
          "Type: contracts<br>Text: ## Support\n1. **Customer Support Access**: The Client will have access to dedicated support through ...",
          "Type: contracts<br>Text: **Signatures:**  \n_________________________                           _________________________  \n**...",
          "Type: contracts<br>Text: # Contract with Greenstone Insurance for Homellm\n\n---\n\n## Terms\n\n1. **Parties**: This Contract (\"Agr...",
          "Type: contracts<br>Text: 4. **Payment Terms**: \n   - The Customer shall pay an amount of $10,000 per month for the Standard T...",
          "Type: contracts<br>Text: ---\n\n## Features\n\n- **AI-Powered Risk Assessment**: Customer will have access to enhanced risk evalu...",
          "Type: contracts<br>Text: - **Customer Portal**: A dedicated portal will be provided, allowing the Customer's clients to manag...",
          "Type: contracts<br>Text: ______________________________  \n[Name], [Title]  \nDate: ______________________\n\n**For Greenstone In...",
          "Type: contracts<br>Text: # Contract with GreenValley Insurance for Homellm\n\n**Contract Date:** October 6, 2023  \n**Contract N...",
          "Type: contracts<br>Text: 4. **Confidentiality:** Both parties agree to maintain the confidentiality of proprietary informatio...",
          "Type: contracts<br>Text: 1. **AI-Powered Risk Assessment:** Access to advanced AI algorithms for real-time risk evaluations.\n...",
          "Type: contracts<br>Text: 3. **Regular Updates:** Insurellm will offer ongoing updates and enhancements to the Homellm platfor...",
          "Type: contracts<br>Text: # Contract with Pinnacle Insurance Co. for Homellm\n\n## Terms\nThis contract (\"Contract\") is entered i...",
          "Type: contracts<br>Text: ## Renewal\n1. **Renewal Terms**: At the end of the initial term, this Contract shall automatically r...",
          "Type: contracts<br>Text: ## Features\n1. **AI-Powered Risk Assessment**: Utilized for tailored underwriting decisions specific...",
          "Type: contracts<br>Text: ## Support\n1. **Technical Support**: Insurellm shall provide 24/7 technical support via an email and...",
          "Type: contracts<br>Text: # Contract with Roadway Insurance Inc. for Carllm\n\n---\n\n## Terms\n\n1. **Agreement Effective Date**: T...",
          "Type: contracts<br>Text: ---\n\n## Renewal\n\n1. **Automatic Renewal**: This agreement will automatically renew for an additional...",
          "Type: contracts<br>Text: ---\n\n## Features\n\n1. **Access to Core Features**: Roadway Insurance Inc. will have access to all Pro...",
          "Type: contracts<br>Text: ---\n\n## Support\n\n1. **Technical Support**: Roadway Insurance Inc. will receive priority technical su...",
          "Type: contracts<br>Text: # Contract with Stellar Insurance Co. for Rellm\n\n## Terms\nThis contract is made between **Insurellm*...",
          "Type: contracts<br>Text: ### Termination\nEither party may terminate this agreement with a **30-day written notice**. In the e...",
          "Type: contracts<br>Text: ## Features\nStellar Insurance Co. will receive access to the following features of the Rellm product...",
          "Type: contracts<br>Text: ## Support\nInsurellm provides Stellar Insurance Co. with the following support services:\n\n- **24/7 T...",
          "Type: contracts<br>Text: # Contract with TechDrive Insurance for Carllm\n\n**Contract Date:** October 1, 2024  \n**Contract Dura...",
          "Type: contracts<br>Text: ## Renewal\n\n1. **Automatic Renewal**: This contract shall automatically renew for additional one-yea...",
          "Type: contracts<br>Text: ## Support\n\n1. **Customer Support**: Insurellm will provide 24/7 customer support to TechDrive Insur...",
          "Type: contracts<br>Text: **TechDrive Insurance Representative:**  \nName: Sarah Johnson  \nTitle: Operations Director  \nDate: _...",
          "Type: contracts<br>Text: # Contract with Velocity Auto Solutions for Carllm\n\n**Contract Date:** October 1, 2023  \n**Contract ...",
          "Type: contracts<br>Text: ## Renewal\n\n1. **Automatic Renewal**: This contract will automatically renew for successive 12-month...",
          "Type: contracts<br>Text: ## Support\n\n1. **Customer Support**: Velocity Auto Solutions will have access to Insurellm’s custome...",
          "Type: employees<br>Text: # HR Record\n\n# Alex Chen\n\n## Summary\n- **Date of Birth:** March 15, 1990  \n- **Job Title:** Backend ...",
          "Type: employees<br>Text: ## Annual Performance History\n- **2020:**  \n  - Completed onboarding successfully.  \n  - Met expecta...",
          "Type: employees<br>Text: ## Compensation History\n- **2020:** Base Salary: $80,000  \n- **2021:** Base Salary Increase to $90,0...",
          "Type: employees<br>Text: Alex Chen continues to be a vital asset at Insurellm, contributing significantly to innovative backe...",
          "Type: employees<br>Text: # HR Record\n\n# Alex Harper\n\n## Summary\n- **Date of Birth**: March 15, 1993  \n- **Job Title**: Sales ...",
          "Type: employees<br>Text: ## Annual Performance History  \n- **2021**:  \n  - **Performance Rating**: 4.5/5  \n  - **Key Achievem...",
          "Type: employees<br>Text: - **2022**:  \n  - **Base Salary**: $65,000 (Promotion to Senior SDR)  \n  - **Bonus**: $13,000 (20% o...",
          "Type: employees<br>Text: # HR Record\n\n# Alex Thomson\n\n## Summary\n- **Date of Birth:** March 15, 1995  \n- **Job Title:** Sales...",
          "Type: employees<br>Text: ## Annual Performance History  \n- **2022** - Rated as \"Exceeds Expectations.\" Alex Thomson achieved ...",
          "Type: employees<br>Text: ## Other HR Notes\n- Alex Thomson is an active member of the Diversity and Inclusion committee at Ins...",
          "Type: employees<br>Text: # Avery Lancaster\n\n## Summary\n- **Date of Birth**: March 15, 1985  \n- **Job Title**: Co-Founder & Ch...",
          "Type: employees<br>Text: - **2010 - 2013**: Business Analyst at Edge Analytics  \n  Prior to joining Innovate, Avery worked as...",
          "Type: employees<br>Text: - **2018**: **Exceeds Expectations**  \n  Under Avery’s pivoted vision, Insurellm launched two new su...",
          "Type: employees<br>Text: - **2022**: **Satisfactory**  \n  Avery focused on rebuilding team dynamics and addressing employee c...",
          "Type: employees<br>Text: ## Compensation History\n- **2015**: $150,000 base salary + Significant equity stake  \n- **2016**: $1...",
          "Type: employees<br>Text: ## Other HR Notes\n- **Professional Development**: Avery has actively participated in leadership trai...",
          "Type: employees<br>Text: # HR Record\n\n# Emily Carter\n\n## Summary\n- **Date of Birth:** August 12, 1990  \n- **Job Title:** Acco...",
          "Type: employees<br>Text: - **2017-2019:** Marketing Intern  \n  - Assisted with market research and campaign development for s...",
          "Type: employees<br>Text: ## Compensation History\n| Year | Base Salary | Bonus         | Total Compensation |\n|------|--------...",
          "Type: employees<br>Text: Emily Carter exemplifies the kind of talent that drives Insurellm's success and is an invaluable ass...",
          "Type: employees<br>Text: # HR Record\n\n# Emily Tran\n\n## Summary\n- **Date of Birth:** March 18, 1991  \n- **Job Title:** Digital...",
          "Type: employees<br>Text: - **January 2017 - May 2018**: Marketing Intern  \n  - Supported the Marketing team by collaborating ...",
          "Type: employees<br>Text: - **2021**:  \n  - Performance Rating: Meets Expectations  \n  - Key Achievements: Contributed to the ...",
          "Type: employees<br>Text: - **Professional Development Goals**:  \n  - Emily Tran aims to become a Marketing Manager within the...",
          "Type: employees<br>Text: # HR Record\n\n# Jordan Blake\n\n## Summary\n- **Date of Birth:** March 15, 1993  \n- **Job Title:** Sales...",
          "Type: employees<br>Text: ## Annual Performance History\n- **2021:** First year at Insurellm; achieved 90% of monthly targets. ...",
          "Type: employees<br>Text: ## Other HR Notes\n- Jordan has shown an interest in continuing education, actively participating in ...",
          "Type: employees<br>Text: # HR Record\n\n# Jordan K. Bishop\n\n## Summary\n- **Date of Birth:** March 15, 1990\n- **Job Title:** Fro...",
          "Type: employees<br>Text: ## Annual Performance History\n- **2019:** Exceeds Expectations - Continuously delivered high-quality...",
          "Type: employees<br>Text: ## Compensation History\n- **June 2018:** Starting Salary - $85,000\n- **June 2019:** Salary Increase ...",
          "Type: employees<br>Text: ## Other HR Notes\n- Jordan K. Bishop has been an integral part of club initiatives, including the In...",
          "Type: employees<br>Text: # HR Record\n\n# Maxine Thompson\n\n## Summary\n- **Date of Birth:** January 15, 1991  \n- **Job Title:** ...",
          "Type: employees<br>Text: ## Insurellm Career Progression\n- **January 2017 - October 2018**: **Junior Data Engineer**  \n  * Ma...",
          "Type: employees<br>Text: ## Annual Performance History\n- **2017**: *Meets Expectations*  \n  Maxine showed potential in her ro...",
          "Type: employees<br>Text: - **2021**: *Exceeds Expectations*  \n  Maxine spearheaded the transition to a new data warehousing s...",
          "Type: employees<br>Text: ## Compensation History\n- **2017**: $70,000 (Junior Data Engineer)  \n- **2018**: $75,000 (Junior Dat...",
          "Type: employees<br>Text: # HR Record\n\n# Oliver Spencer\n\n## Summary\n- **Date of Birth**: May 14, 1990  \n- **Job Title**: Backe...",
          "Type: employees<br>Text: ## Annual Performance History\n- **2018**: **3/5** - Adaptable team player but still learning to take...",
          "Type: employees<br>Text: ## Compensation History\n- **March 2018**: Initial salary of $80,000.\n- **July 2019**: Salary increas...",
          "Type: employees<br>Text: # Samantha Greene\n\n## Summary\n- **Date of Birth:** October 14, 1990\n- **Job Title:** HR Generalist\n-...",
          "Type: employees<br>Text: ## Annual Performance History\n- **2020:** Exceeds Expectations  \n  Samantha Greene demonstrated exce...",
          "Type: employees<br>Text: ## Compensation History\n- **2020:** Base Salary - $55,000  \n  The entry-level salary matched industr...",
          "Type: employees<br>Text: - **2023:** Base Salary - $70,000  \n  Recognized for substantial improvement in employee relations m...",
          "Type: employees<br>Text: # HR Record\n\n# Samuel Trenton\n\n## Summary\n- **Date of Birth:** April 12, 1989  \n- **Job Title:** Sen...",
          "Type: employees<br>Text: ## Annual Performance History\n- **2023:** Rating: 4.5/5  \n  *Samuel exceeded expectations, successfu...",
          "Type: employees<br>Text: ## Compensation History\n- **2023:** Base Salary: $115,000 + Bonus: $15,000  \n  *Annual bonus based o...",
          "Type: employees<br>Text: - **Engagement in Company Culture:** Regularly participates in team-building events and contributes ...",
          "Type: products<br>Text: # Product Summary\n\n# Carllm\n\n## Summary\n\nCarllm is an innovative auto insurance product developed by...",
          "Type: products<br>Text: - **Instant Quoting**: With Carllm, insurance companies can offer near-instant quotes to customers, ...",
          "Type: products<br>Text: - **Mobile Integration**: Carllm is designed to work seamlessly with mobile applications, providing ...",
          "Type: products<br>Text: - **Professional Tier**: $2,500/month\n  - For medium-sized companies.\n  - All Basic Tier features pl...",
          "Type: products<br>Text: ### Q2 2025: Customer Experience Improvements\n- Launch of a new **mobile app** for end-users.\n- Intr...",
          "Type: products<br>Text: # Product Summary\n\n# Homellm\n\n## Summary\nHomellm is an innovative home insurance product developed b...",
          "Type: products<br>Text: ### 2. Dynamic Pricing Model\nWith Homellm's innovative dynamic pricing model, insurance providers ca...",
          "Type: products<br>Text: ### 5. Multi-Channel Integration\nHomellm seamlessly integrates into existing insurance platforms, pr...",
          "Type: products<br>Text: - **Basic Tier:** Starting at $5,000/month for small insurers with basic integration features.\n- **S...",
          "Type: products<br>Text: All tiers include a comprehensive training program and ongoing updates to ensure optimal performance...",
          "Type: products<br>Text: With Homellm, Insurellm is committed to transforming the landscape of home insurance, ensuring both ...",
          "Type: products<br>Text: # Product Summary\n\n# Markellm\n\n## Summary\n\nMarkellm is an innovative two-sided marketplace designed ...",
          "Type: products<br>Text: - **User-Friendly Interface**: Designed with user experience in mind, Markellm features an intuitive...",
          "Type: products<br>Text: - **Customer Support**: Our dedicated support team is always available to assist both consumers and ...",
          "Type: products<br>Text: ### For Insurance Companies:\n- **Basic Listing Fee**: $199/month for a featured listing on the platf...",
          "Type: products<br>Text: ### Q3 2025\n- Initiate a comprehensive marketing campaign targeting both consumers and insurers to i...",
          "Type: products<br>Text: # Product Summary\n\n# Rellm: AI-Powered Enterprise Reinsurance Solution\n\n## Summary\n\nRellm is an inno...",
          "Type: products<br>Text: ### Seamless Integrations\nRellm's architecture is designed for effortless integration with existing ...",
          "Type: products<br>Text: ### Regulatory Compliance Tools\nRellm includes built-in compliance tracking features to help organiz...",
          "Type: products<br>Text: Join the growing number of organizations leveraging Rellm to enhance their reinsurance processes whi...",
          "Type: products<br>Text: Experience the future of reinsurance with Rellm, where innovation meets reliability. Let Insurellm h..."
         ],
         "type": "scatter",
         "x": [
          1.2302504,
          2.0389574,
          0.9030298,
          -3.3920865,
          -3.4527972,
          -2.3942268,
          -3.1867514,
          -0.7418397,
          -6.9889994,
          -10.197792,
          -6.915451,
          -3.3281395,
          -1.6086447,
          -6.813877,
          -8.13974,
          -8.0305605,
          -6.3206625,
          -2.6346474,
          -2.6221263,
          -1.941895,
          -1.7824855,
          -0.47055244,
          -6.144341,
          -9.946996,
          -5.0071163,
          -9.035378,
          -0.68214375,
          -4.905596,
          -10.1456585,
          -3.0676656,
          -4.283365,
          -0.8585729,
          -4.2073245,
          -3.843806,
          -3.7051246,
          -3.3031707,
          -5.0699544,
          -10.065963,
          -3.7084079,
          -3.6984777,
          -7.763973,
          -8.894591,
          -5.9893475,
          -5.450186,
          -1.0838616,
          -1.5210412,
          -1.0306801,
          -0.9902548,
          -6.5767694,
          -6.7446895,
          -5.3547997,
          -5.482217,
          -6.952764,
          -6.681366,
          -5.109824,
          8.222283,
          13.946675,
          12.327917,
          4.321585,
          9.62422,
          12.278784,
          11.280642,
          9.801334,
          12.264744,
          10.412218,
          5.524379,
          7.0124464,
          7.2273655,
          7.1515427,
          13.973267,
          5.7675176,
          8.473343,
          9.407288,
          11.47797,
          4.7952127,
          8.327686,
          8.478309,
          10.906067,
          7.950242,
          8.850717,
          11.766923,
          6.75399,
          7.447847,
          14.027475,
          13.892296,
          6.6460238,
          9.259398,
          9.073072,
          9.53442,
          8.715585,
          13.239083,
          8.005458,
          14.224402,
          12.452499,
          11.5725355,
          10.729835,
          12.304427,
          11.769346,
          9.071216,
          13.082205,
          13.154008,
          12.096627,
          -4.305103,
          -4.682542,
          -5.402827,
          -5.5863624,
          -4.444931,
          -1.7964835,
          -2.5372872,
          -1.644835,
          -1.8583513,
          -1.4734253,
          -0.31276932,
          -6.285458,
          -6.7167006,
          -7.4557557,
          -8.233352,
          -5.433624,
          -1.7415081,
          -2.1447115,
          -1.1929994,
          -2.9201458,
          -0.35968545
         ],
         "y": [
          2.190942,
          1.868654,
          2.2800229,
          -1.2704939,
          0.09144628,
          1.2922328,
          -2.6043222,
          -5.374614,
          -4.6994057,
          -2.5996778,
          3.6256487,
          -3.2640655,
          -5.4666443,
          -3.7745662,
          1.0301806,
          2.304917,
          -3.5894234,
          -1.1437266,
          -0.16627362,
          0.5184528,
          -0.7844281,
          -3.8157005,
          -4.9299054,
          -2.108475,
          6.1600294,
          4.217559,
          -5.935948,
          -4.98178,
          -0.3660176,
          5.5814867,
          -4.094273,
          -6.3247547,
          -5.713017,
          -5.331264,
          5.393348,
          -4.975496,
          -5.7742634,
          -2.3628893,
          6.3848743,
          -3.623928,
          -1.4786289,
          -1.2220118,
          1.1328491,
          -0.098188765,
          -2.0315742,
          -2.2879982,
          0.3678399,
          -1.0279943,
          -1.5795773,
          -0.16569616,
          -1.4080882,
          -2.068746,
          -1.3693076,
          0.08162074,
          -1.0265461,
          -2.8918548,
          -1.4291263,
          1.2869864,
          0.66120034,
          -1.8140986,
          -0.07526747,
          -0.72971404,
          -2.2244806,
          -1.0349777,
          -2.3704653,
          2.2968488,
          3.2832794,
          3.9688957,
          4.1264524,
          1.083091,
          2.3485184,
          -0.91860265,
          0.98669213,
          1.5470382,
          0.22591117,
          -0.11698611,
          0.6500471,
          0.9201606,
          0.5207621,
          -1.9569037,
          0.5100277,
          -1.4718206,
          -2.6282318,
          -1.9011334,
          1.7693049,
          -2.061314,
          -4.3921933,
          2.6611974,
          3.7337222,
          3.4674568,
          2.1941764,
          -3.2644477,
          -1.1717966,
          1.5612838,
          3.8923962,
          3.7109888,
          3.1086519,
          3.1055982,
          -3.0795293,
          -0.14040212,
          0.7530125,
          -3.3508675,
          2.499688,
          2.693901,
          2.312743,
          2.0931125,
          3.546943,
          4.4074664,
          5.2293944,
          4.9697704,
          6.614863,
          6.2966437,
          3.8652487,
          4.638827,
          4.6238017,
          4.220783,
          4.206675,
          4.4694557,
          2.465085,
          1.6725352,
          1.3495834,
          3.08143,
          2.5532436
         ]
        }
       ],
       "layout": {
        "height": 600,
        "margin": {
         "b": 10,
         "l": 10,
         "r": 20,
         "t": 40
        },
        "scene": {
         "xaxis": {
          "title": {
           "text": "x"
          }
         },
         "yaxis": {
          "title": {
           "text": "y"
          }
         }
        },
        "template": {
         "data": {
          "bar": [
           {
            "error_x": {
             "color": "#2a3f5f"
            },
            "error_y": {
             "color": "#2a3f5f"
            },
            "marker": {
             "line": {
              "color": "#E5ECF6",
              "width": 0.5
             },
             "pattern": {
              "fillmode": "overlay",
              "size": 10,
              "solidity": 0.2
             }
            },
            "type": "bar"
           }
          ],
          "barpolar": [
           {
            "marker": {
             "line": {
              "color": "#E5ECF6",
              "width": 0.5
             },
             "pattern": {
              "fillmode": "overlay",
              "size": 10,
              "solidity": 0.2
             }
            },
            "type": "barpolar"
           }
          ],
          "carpet": [
           {
            "aaxis": {
             "endlinecolor": "#2a3f5f",
             "gridcolor": "white",
             "linecolor": "white",
             "minorgridcolor": "white",
             "startlinecolor": "#2a3f5f"
            },
            "baxis": {
             "endlinecolor": "#2a3f5f",
             "gridcolor": "white",
             "linecolor": "white",
             "minorgridcolor": "white",
             "startlinecolor": "#2a3f5f"
            },
            "type": "carpet"
           }
          ],
          "choropleth": [
           {
            "colorbar": {
             "outlinewidth": 0,
             "ticks": ""
            },
            "type": "choropleth"
           }
          ],
          "contour": [
           {
            "colorbar": {
             "outlinewidth": 0,
             "ticks": ""
            },
            "colorscale": [
             [
              0,
              "#0d0887"
             ],
             [
              0.1111111111111111,
              "#46039f"
             ],
             [
              0.2222222222222222,
              "#7201a8"
             ],
             [
              0.3333333333333333,
              "#9c179e"
             ],
             [
              0.4444444444444444,
              "#bd3786"
             ],
             [
              0.5555555555555556,
              "#d8576b"
             ],
             [
              0.6666666666666666,
              "#ed7953"
             ],
             [
              0.7777777777777778,
              "#fb9f3a"
             ],
             [
              0.8888888888888888,
              "#fdca26"
             ],
             [
              1,
              "#f0f921"
             ]
            ],
            "type": "contour"
           }
          ],
          "contourcarpet": [
           {
            "colorbar": {
             "outlinewidth": 0,
             "ticks": ""
            },
            "type": "contourcarpet"
           }
          ],
          "heatmap": [
           {
            "colorbar": {
             "outlinewidth": 0,
             "ticks": ""
            },
            "colorscale": [
             [
              0,
              "#0d0887"
             ],
             [
              0.1111111111111111,
              "#46039f"
             ],
             [
              0.2222222222222222,
              "#7201a8"
             ],
             [
              0.3333333333333333,
              "#9c179e"
             ],
             [
              0.4444444444444444,
              "#bd3786"
             ],
             [
              0.5555555555555556,
              "#d8576b"
             ],
             [
              0.6666666666666666,
              "#ed7953"
             ],
             [
              0.7777777777777778,
              "#fb9f3a"
             ],
             [
              0.8888888888888888,
              "#fdca26"
             ],
             [
              1,
              "#f0f921"
             ]
            ],
            "type": "heatmap"
           }
          ],
          "heatmapgl": [
           {
            "colorbar": {
             "outlinewidth": 0,
             "ticks": ""
            },
            "colorscale": [
             [
              0,
              "#0d0887"
             ],
             [
              0.1111111111111111,
              "#46039f"
             ],
             [
              0.2222222222222222,
              "#7201a8"
             ],
             [
              0.3333333333333333,
              "#9c179e"
             ],
             [
              0.4444444444444444,
              "#bd3786"
             ],
             [
              0.5555555555555556,
              "#d8576b"
             ],
             [
              0.6666666666666666,
              "#ed7953"
             ],
             [
              0.7777777777777778,
              "#fb9f3a"
             ],
             [
              0.8888888888888888,
              "#fdca26"
             ],
             [
              1,
              "#f0f921"
             ]
            ],
            "type": "heatmapgl"
           }
          ],
          "histogram": [
           {
            "marker": {
             "pattern": {
              "fillmode": "overlay",
              "size": 10,
              "solidity": 0.2
             }
            },
            "type": "histogram"
           }
          ],
          "histogram2d": [
           {
            "colorbar": {
             "outlinewidth": 0,
             "ticks": ""
            },
            "colorscale": [
             [
              0,
              "#0d0887"
             ],
             [
              0.1111111111111111,
              "#46039f"
             ],
             [
              0.2222222222222222,
              "#7201a8"
             ],
             [
              0.3333333333333333,
              "#9c179e"
             ],
             [
              0.4444444444444444,
              "#bd3786"
             ],
             [
              0.5555555555555556,
              "#d8576b"
             ],
             [
              0.6666666666666666,
              "#ed7953"
             ],
             [
              0.7777777777777778,
              "#fb9f3a"
             ],
             [
              0.8888888888888888,
              "#fdca26"
             ],
             [
              1,
              "#f0f921"
             ]
            ],
            "type": "histogram2d"
           }
          ],
          "histogram2dcontour": [
           {
            "colorbar": {
             "outlinewidth": 0,
             "ticks": ""
            },
            "colorscale": [
             [
              0,
              "#0d0887"
             ],
             [
              0.1111111111111111,
              "#46039f"
             ],
             [
              0.2222222222222222,
              "#7201a8"
             ],
             [
              0.3333333333333333,
              "#9c179e"
             ],
             [
              0.4444444444444444,
              "#bd3786"
             ],
             [
              0.5555555555555556,
              "#d8576b"
             ],
             [
              0.6666666666666666,
              "#ed7953"
             ],
             [
              0.7777777777777778,
              "#fb9f3a"
             ],
             [
              0.8888888888888888,
              "#fdca26"
             ],
             [
              1,
              "#f0f921"
             ]
            ],
            "type": "histogram2dcontour"
           }
          ],
          "mesh3d": [
           {
            "colorbar": {
             "outlinewidth": 0,
             "ticks": ""
            },
            "type": "mesh3d"
           }
          ],
          "parcoords": [
           {
            "line": {
             "colorbar": {
              "outlinewidth": 0,
              "ticks": ""
             }
            },
            "type": "parcoords"
           }
          ],
          "pie": [
           {
            "automargin": true,
            "type": "pie"
           }
          ],
          "scatter": [
           {
            "fillpattern": {
             "fillmode": "overlay",
             "size": 10,
             "solidity": 0.2
            },
            "type": "scatter"
           }
          ],
          "scatter3d": [
           {
            "line": {
             "colorbar": {
              "outlinewidth": 0,
              "ticks": ""
             }
            },
            "marker": {
             "colorbar": {
              "outlinewidth": 0,
              "ticks": ""
             }
            },
            "type": "scatter3d"
           }
          ],
          "scattercarpet": [
           {
            "marker": {
             "colorbar": {
              "outlinewidth": 0,
              "ticks": ""
             }
            },
            "type": "scattercarpet"
           }
          ],
          "scattergeo": [
           {
            "marker": {
             "colorbar": {
              "outlinewidth": 0,
              "ticks": ""
             }
            },
            "type": "scattergeo"
           }
          ],
          "scattergl": [
           {
            "marker": {
             "colorbar": {
              "outlinewidth": 0,
              "ticks": ""
             }
            },
            "type": "scattergl"
           }
          ],
          "scattermapbox": [
           {
            "marker": {
             "colorbar": {
              "outlinewidth": 0,
              "ticks": ""
             }
            },
            "type": "scattermapbox"
           }
          ],
          "scatterpolar": [
           {
            "marker": {
             "colorbar": {
              "outlinewidth": 0,
              "ticks": ""
             }
            },
            "type": "scatterpolar"
           }
          ],
          "scatterpolargl": [
           {
            "marker": {
             "colorbar": {
              "outlinewidth": 0,
              "ticks": ""
             }
            },
            "type": "scatterpolargl"
           }
          ],
          "scatterternary": [
           {
            "marker": {
             "colorbar": {
              "outlinewidth": 0,
              "ticks": ""
             }
            },
            "type": "scatterternary"
           }
          ],
          "surface": [
           {
            "colorbar": {
             "outlinewidth": 0,
             "ticks": ""
            },
            "colorscale": [
             [
              0,
              "#0d0887"
             ],
             [
              0.1111111111111111,
              "#46039f"
             ],
             [
              0.2222222222222222,
              "#7201a8"
             ],
             [
              0.3333333333333333,
              "#9c179e"
             ],
             [
              0.4444444444444444,
              "#bd3786"
             ],
             [
              0.5555555555555556,
              "#d8576b"
             ],
             [
              0.6666666666666666,
              "#ed7953"
             ],
             [
              0.7777777777777778,
              "#fb9f3a"
             ],
             [
              0.8888888888888888,
              "#fdca26"
             ],
             [
              1,
              "#f0f921"
             ]
            ],
            "type": "surface"
           }
          ],
          "table": [
           {
            "cells": {
             "fill": {
              "color": "#EBF0F8"
             },
             "line": {
              "color": "white"
             }
            },
            "header": {
             "fill": {
              "color": "#C8D4E3"
             },
             "line": {
              "color": "white"
             }
            },
            "type": "table"
           }
          ]
         },
         "layout": {
          "annotationdefaults": {
           "arrowcolor": "#2a3f5f",
           "arrowhead": 0,
           "arrowwidth": 1
          },
          "autotypenumbers": "strict",
          "coloraxis": {
           "colorbar": {
            "outlinewidth": 0,
            "ticks": ""
           }
          },
          "colorscale": {
           "diverging": [
            [
             0,
             "#8e0152"
            ],
            [
             0.1,
             "#c51b7d"
            ],
            [
             0.2,
             "#de77ae"
            ],
            [
             0.3,
             "#f1b6da"
            ],
            [
             0.4,
             "#fde0ef"
            ],
            [
             0.5,
             "#f7f7f7"
            ],
            [
             0.6,
             "#e6f5d0"
            ],
            [
             0.7,
             "#b8e186"
            ],
            [
             0.8,
             "#7fbc41"
            ],
            [
             0.9,
             "#4d9221"
            ],
            [
             1,
             "#276419"
            ]
           ],
           "sequential": [
            [
             0,
             "#0d0887"
            ],
            [
             0.1111111111111111,
             "#46039f"
            ],
            [
             0.2222222222222222,
             "#7201a8"
            ],
            [
             0.3333333333333333,
             "#9c179e"
            ],
            [
             0.4444444444444444,
             "#bd3786"
            ],
            [
             0.5555555555555556,
             "#d8576b"
            ],
            [
             0.6666666666666666,
             "#ed7953"
            ],
            [
             0.7777777777777778,
             "#fb9f3a"
            ],
            [
             0.8888888888888888,
             "#fdca26"
            ],
            [
             1,
             "#f0f921"
            ]
           ],
           "sequentialminus": [
            [
             0,
             "#0d0887"
            ],
            [
             0.1111111111111111,
             "#46039f"
            ],
            [
             0.2222222222222222,
             "#7201a8"
            ],
            [
             0.3333333333333333,
             "#9c179e"
            ],
            [
             0.4444444444444444,
             "#bd3786"
            ],
            [
             0.5555555555555556,
             "#d8576b"
            ],
            [
             0.6666666666666666,
             "#ed7953"
            ],
            [
             0.7777777777777778,
             "#fb9f3a"
            ],
            [
             0.8888888888888888,
             "#fdca26"
            ],
            [
             1,
             "#f0f921"
            ]
           ]
          },
          "colorway": [
           "#636efa",
           "#EF553B",
           "#00cc96",
           "#ab63fa",
           "#FFA15A",
           "#19d3f3",
           "#FF6692",
           "#B6E880",
           "#FF97FF",
           "#FECB52"
          ],
          "font": {
           "color": "#2a3f5f"
          },
          "geo": {
           "bgcolor": "white",
           "lakecolor": "white",
           "landcolor": "#E5ECF6",
           "showlakes": true,
           "showland": true,
           "subunitcolor": "white"
          },
          "hoverlabel": {
           "align": "left"
          },
          "hovermode": "closest",
          "mapbox": {
           "style": "light"
          },
          "paper_bgcolor": "white",
          "plot_bgcolor": "#E5ECF6",
          "polar": {
           "angularaxis": {
            "gridcolor": "white",
            "linecolor": "white",
            "ticks": ""
           },
           "bgcolor": "#E5ECF6",
           "radialaxis": {
            "gridcolor": "white",
            "linecolor": "white",
            "ticks": ""
           }
          },
          "scene": {
           "xaxis": {
            "backgroundcolor": "#E5ECF6",
            "gridcolor": "white",
            "gridwidth": 2,
            "linecolor": "white",
            "showbackground": true,
            "ticks": "",
            "zerolinecolor": "white"
           },
           "yaxis": {
            "backgroundcolor": "#E5ECF6",
            "gridcolor": "white",
            "gridwidth": 2,
            "linecolor": "white",
            "showbackground": true,
            "ticks": "",
            "zerolinecolor": "white"
           },
           "zaxis": {
            "backgroundcolor": "#E5ECF6",
            "gridcolor": "white",
            "gridwidth": 2,
            "linecolor": "white",
            "showbackground": true,
            "ticks": "",
            "zerolinecolor": "white"
           }
          },
          "shapedefaults": {
           "line": {
            "color": "#2a3f5f"
           }
          },
          "ternary": {
           "aaxis": {
            "gridcolor": "white",
            "linecolor": "white",
            "ticks": ""
           },
           "baxis": {
            "gridcolor": "white",
            "linecolor": "white",
            "ticks": ""
           },
           "bgcolor": "#E5ECF6",
           "caxis": {
            "gridcolor": "white",
            "linecolor": "white",
            "ticks": ""
           }
          },
          "title": {
           "x": 0.05
          },
          "xaxis": {
           "automargin": true,
           "gridcolor": "white",
           "linecolor": "white",
           "ticks": "",
           "title": {
            "standoff": 15
           },
           "zerolinecolor": "white",
           "zerolinewidth": 2
          },
          "yaxis": {
           "automargin": true,
           "gridcolor": "white",
           "linecolor": "white",
           "ticks": "",
           "title": {
            "standoff": 15
           },
           "zerolinecolor": "white",
           "zerolinewidth": 2
          }
         }
        },
        "title": {
         "text": "2D Chroma Vector Store Visualization"
        },
        "width": 800
       }
      }
     },
     "metadata": {},
     "output_type": "display_data"
    }
   ],
   "source": [
    "# We humans find it easier to visalize things in 2D!\n",
    "# Reduce the dimensionality of the vectors to 2D using t-SNE\n",
    "# (t-distributed stochastic neighbor embedding)\n",
    "\n",
    "tsne = TSNE(n_components=2, random_state=42)\n",
    "reduced_vectors = tsne.fit_transform(vectors)\n",
    "\n",
    "# Create the 2D scatter plot\n",
    "fig = go.Figure(data=[go.Scatter(\n",
    "    x=reduced_vectors[:, 0],\n",
    "    y=reduced_vectors[:, 1],\n",
    "    mode='markers',\n",
    "    marker=dict(size=5, color=colors, opacity=0.8),\n",
    "    text=[f\"Type: {t}<br>Text: {d[:100]}...\" for t, d in zip(doc_types, documents)],\n",
    "    hoverinfo='text'\n",
    ")])\n",
    "\n",
    "fig.update_layout(\n",
    "    title='2D Chroma Vector Store Visualization',\n",
    "    scene=dict(xaxis_title='x',yaxis_title='y'),\n",
    "    width=800,\n",
    "    height=600,\n",
    "    margin=dict(r=20, b=10, l=10, t=40)\n",
    ")\n",
    "\n",
    "fig.show()"
   ]
  },
  {
   "cell_type": "code",
   "execution_count": 14,
   "id": "e1418e88-acd5-460a-bf2b-4e6efc88e3dd",
   "metadata": {},
   "outputs": [
    {
     "data": {
      "application/vnd.plotly.v1+json": {
       "config": {
        "plotlyServerURL": "https://plot.ly"
       },
       "data": [
        {
         "hoverinfo": "text",
         "marker": {
          "color": [
           "orange",
           "orange",
           "orange",
           "red",
           "red",
           "red",
           "red",
           "red",
           "red",
           "red",
           "red",
           "red",
           "red",
           "red",
           "red",
           "red",
           "red",
           "red",
           "red",
           "red",
           "red",
           "red",
           "red",
           "red",
           "red",
           "red",
           "red",
           "red",
           "red",
           "red",
           "red",
           "red",
           "red",
           "red",
           "red",
           "red",
           "red",
           "red",
           "red",
           "red",
           "red",
           "red",
           "red",
           "red",
           "red",
           "red",
           "red",
           "red",
           "red",
           "red",
           "red",
           "red",
           "red",
           "red",
           "red",
           "green",
           "green",
           "green",
           "green",
           "green",
           "green",
           "green",
           "green",
           "green",
           "green",
           "green",
           "green",
           "green",
           "green",
           "green",
           "green",
           "green",
           "green",
           "green",
           "green",
           "green",
           "green",
           "green",
           "green",
           "green",
           "green",
           "green",
           "green",
           "green",
           "green",
           "green",
           "green",
           "green",
           "green",
           "green",
           "green",
           "green",
           "green",
           "green",
           "green",
           "green",
           "green",
           "green",
           "green",
           "green",
           "green",
           "green",
           "blue",
           "blue",
           "blue",
           "blue",
           "blue",
           "blue",
           "blue",
           "blue",
           "blue",
           "blue",
           "blue",
           "blue",
           "blue",
           "blue",
           "blue",
           "blue",
           "blue",
           "blue",
           "blue",
           "blue",
           "blue"
          ],
          "opacity": 0.8,
          "size": 5
         },
         "mode": "markers",
         "text": [
          "Type: company<br>Text: # About Insurellm\n\nInsurellm was founded by Avery Lancaster in 2015 as an insurance tech startup des...",
          "Type: company<br>Text: # Careers at Insurellm\n\nInsurellm is hiring! We are looking for talented software engineers, data sc...",
          "Type: company<br>Text: # Overview of Insurellm\n\nInsurellm is an innovative insurance tech firm with 200 employees across th...",
          "Type: contracts<br>Text: # Contract with Apex Reinsurance for Rellm: AI-Powered Enterprise Reinsurance Solution\n\n## Terms\n\n1....",
          "Type: contracts<br>Text: ## Renewal\n\n1. **Automatic Renewal**: This Agreement will automatically renew for successive one-yea...",
          "Type: contracts<br>Text: 2. **Seamless Integrations**: The architecture of Rellm allows for easy integration with existing sy...",
          "Type: contracts<br>Text: 1. **Technical Support**: Provider shall offer dedicated technical support to the Client via phone, ...",
          "Type: contracts<br>Text: **Insurellm, Inc.**  \n_____________________________  \nAuthorized Signature   \nDate: ________________...",
          "Type: contracts<br>Text: # Contract with Belvedere Insurance for Markellm\n\n## Terms\nThis Contract (\"Agreement\") is made and e...",
          "Type: contracts<br>Text: ## Renewal\n1. **Renewal Terms**: This Agreement may be renewed for additional one-year terms upon mu...",
          "Type: contracts<br>Text: ## Features\n1. **AI-Powered Matching**: Belvedere Insurance will benefit from Markellm's AI-powered ...",
          "Type: contracts<br>Text: ## Support\n1. **Technical Support**: Technical support will be available from 9 AM to 7 PM EST, Mond...",
          "Type: contracts<br>Text: **Belvedere Insurance**  \nSignature: ______________________  \nName: [Authorized Signatory]  \nTitle: ...",
          "Type: contracts<br>Text: # Contract with BrightWay Solutions for Markellm\n\n**Contract Date:** October 5, 2023  \n**Contract ID...",
          "Type: contracts<br>Text: 3. **Service Level Agreement (SLA):**  \n   Insurellm commits to a 99.9% uptime for the platform with...",
          "Type: contracts<br>Text: 2. **Real-Time Quote Availability:**  \n   Consumers sourced via BrightWay Solutions will receive rea...",
          "Type: contracts<br>Text: 3. **Training and Onboarding:**  \n   Insurellm agrees to provide one free training session on how to...",
          "Type: contracts<br>Text: # Contract with EverGuard Insurance for Rellm: AI-Powered Enterprise Reinsurance Solution\n\n**Contrac...",
          "Type: contracts<br>Text: 4. **Usage Rights**: EverGuard Insurance is granted a non-exclusive, non-transferable license to acc...",
          "Type: contracts<br>Text: 1. **Core Functionality**: Rellm provides EverGuard Insurance with advanced AI-driven analytics, sea...",
          "Type: contracts<br>Text: 1. **Customer Support**: Insurellm will provide EverGuard Insurance with 24/7 customer support, incl...",
          "Type: contracts<br>Text: ---\n\n**Signatures**  \n**For Insurellm**: __________________________  \n**Name**: John Smith  \n**Title...",
          "Type: contracts<br>Text: # Contract with GreenField Holdings for Markellm\n\n**Effective Date:** November 15, 2023  \n**Contract...",
          "Type: contracts<br>Text: ## Renewal\n1. **Automatic Renewal**: This contract will automatically renew for sequential one-year ...",
          "Type: contracts<br>Text: ## Features\n1. **AI-Powered Matching**: Access to advanced algorithms that connect GreenField Holdin...",
          "Type: contracts<br>Text: ## Support\n1. **Customer Support Access**: The Client will have access to dedicated support through ...",
          "Type: contracts<br>Text: **Signatures:**  \n_________________________                           _________________________  \n**...",
          "Type: contracts<br>Text: # Contract with Greenstone Insurance for Homellm\n\n---\n\n## Terms\n\n1. **Parties**: This Contract (\"Agr...",
          "Type: contracts<br>Text: 4. **Payment Terms**: \n   - The Customer shall pay an amount of $10,000 per month for the Standard T...",
          "Type: contracts<br>Text: ---\n\n## Features\n\n- **AI-Powered Risk Assessment**: Customer will have access to enhanced risk evalu...",
          "Type: contracts<br>Text: - **Customer Portal**: A dedicated portal will be provided, allowing the Customer's clients to manag...",
          "Type: contracts<br>Text: ______________________________  \n[Name], [Title]  \nDate: ______________________\n\n**For Greenstone In...",
          "Type: contracts<br>Text: # Contract with GreenValley Insurance for Homellm\n\n**Contract Date:** October 6, 2023  \n**Contract N...",
          "Type: contracts<br>Text: 4. **Confidentiality:** Both parties agree to maintain the confidentiality of proprietary informatio...",
          "Type: contracts<br>Text: 1. **AI-Powered Risk Assessment:** Access to advanced AI algorithms for real-time risk evaluations.\n...",
          "Type: contracts<br>Text: 3. **Regular Updates:** Insurellm will offer ongoing updates and enhancements to the Homellm platfor...",
          "Type: contracts<br>Text: # Contract with Pinnacle Insurance Co. for Homellm\n\n## Terms\nThis contract (\"Contract\") is entered i...",
          "Type: contracts<br>Text: ## Renewal\n1. **Renewal Terms**: At the end of the initial term, this Contract shall automatically r...",
          "Type: contracts<br>Text: ## Features\n1. **AI-Powered Risk Assessment**: Utilized for tailored underwriting decisions specific...",
          "Type: contracts<br>Text: ## Support\n1. **Technical Support**: Insurellm shall provide 24/7 technical support via an email and...",
          "Type: contracts<br>Text: # Contract with Roadway Insurance Inc. for Carllm\n\n---\n\n## Terms\n\n1. **Agreement Effective Date**: T...",
          "Type: contracts<br>Text: ---\n\n## Renewal\n\n1. **Automatic Renewal**: This agreement will automatically renew for an additional...",
          "Type: contracts<br>Text: ---\n\n## Features\n\n1. **Access to Core Features**: Roadway Insurance Inc. will have access to all Pro...",
          "Type: contracts<br>Text: ---\n\n## Support\n\n1. **Technical Support**: Roadway Insurance Inc. will receive priority technical su...",
          "Type: contracts<br>Text: # Contract with Stellar Insurance Co. for Rellm\n\n## Terms\nThis contract is made between **Insurellm*...",
          "Type: contracts<br>Text: ### Termination\nEither party may terminate this agreement with a **30-day written notice**. In the e...",
          "Type: contracts<br>Text: ## Features\nStellar Insurance Co. will receive access to the following features of the Rellm product...",
          "Type: contracts<br>Text: ## Support\nInsurellm provides Stellar Insurance Co. with the following support services:\n\n- **24/7 T...",
          "Type: contracts<br>Text: # Contract with TechDrive Insurance for Carllm\n\n**Contract Date:** October 1, 2024  \n**Contract Dura...",
          "Type: contracts<br>Text: ## Renewal\n\n1. **Automatic Renewal**: This contract shall automatically renew for additional one-yea...",
          "Type: contracts<br>Text: ## Support\n\n1. **Customer Support**: Insurellm will provide 24/7 customer support to TechDrive Insur...",
          "Type: contracts<br>Text: **TechDrive Insurance Representative:**  \nName: Sarah Johnson  \nTitle: Operations Director  \nDate: _...",
          "Type: contracts<br>Text: # Contract with Velocity Auto Solutions for Carllm\n\n**Contract Date:** October 1, 2023  \n**Contract ...",
          "Type: contracts<br>Text: ## Renewal\n\n1. **Automatic Renewal**: This contract will automatically renew for successive 12-month...",
          "Type: contracts<br>Text: ## Support\n\n1. **Customer Support**: Velocity Auto Solutions will have access to Insurellm’s custome...",
          "Type: employees<br>Text: # HR Record\n\n# Alex Chen\n\n## Summary\n- **Date of Birth:** March 15, 1990  \n- **Job Title:** Backend ...",
          "Type: employees<br>Text: ## Annual Performance History\n- **2020:**  \n  - Completed onboarding successfully.  \n  - Met expecta...",
          "Type: employees<br>Text: ## Compensation History\n- **2020:** Base Salary: $80,000  \n- **2021:** Base Salary Increase to $90,0...",
          "Type: employees<br>Text: Alex Chen continues to be a vital asset at Insurellm, contributing significantly to innovative backe...",
          "Type: employees<br>Text: # HR Record\n\n# Alex Harper\n\n## Summary\n- **Date of Birth**: March 15, 1993  \n- **Job Title**: Sales ...",
          "Type: employees<br>Text: ## Annual Performance History  \n- **2021**:  \n  - **Performance Rating**: 4.5/5  \n  - **Key Achievem...",
          "Type: employees<br>Text: - **2022**:  \n  - **Base Salary**: $65,000 (Promotion to Senior SDR)  \n  - **Bonus**: $13,000 (20% o...",
          "Type: employees<br>Text: # HR Record\n\n# Alex Thomson\n\n## Summary\n- **Date of Birth:** March 15, 1995  \n- **Job Title:** Sales...",
          "Type: employees<br>Text: ## Annual Performance History  \n- **2022** - Rated as \"Exceeds Expectations.\" Alex Thomson achieved ...",
          "Type: employees<br>Text: ## Other HR Notes\n- Alex Thomson is an active member of the Diversity and Inclusion committee at Ins...",
          "Type: employees<br>Text: # Avery Lancaster\n\n## Summary\n- **Date of Birth**: March 15, 1985  \n- **Job Title**: Co-Founder & Ch...",
          "Type: employees<br>Text: - **2010 - 2013**: Business Analyst at Edge Analytics  \n  Prior to joining Innovate, Avery worked as...",
          "Type: employees<br>Text: - **2018**: **Exceeds Expectations**  \n  Under Avery’s pivoted vision, Insurellm launched two new su...",
          "Type: employees<br>Text: - **2022**: **Satisfactory**  \n  Avery focused on rebuilding team dynamics and addressing employee c...",
          "Type: employees<br>Text: ## Compensation History\n- **2015**: $150,000 base salary + Significant equity stake  \n- **2016**: $1...",
          "Type: employees<br>Text: ## Other HR Notes\n- **Professional Development**: Avery has actively participated in leadership trai...",
          "Type: employees<br>Text: # HR Record\n\n# Emily Carter\n\n## Summary\n- **Date of Birth:** August 12, 1990  \n- **Job Title:** Acco...",
          "Type: employees<br>Text: - **2017-2019:** Marketing Intern  \n  - Assisted with market research and campaign development for s...",
          "Type: employees<br>Text: ## Compensation History\n| Year | Base Salary | Bonus         | Total Compensation |\n|------|--------...",
          "Type: employees<br>Text: Emily Carter exemplifies the kind of talent that drives Insurellm's success and is an invaluable ass...",
          "Type: employees<br>Text: # HR Record\n\n# Emily Tran\n\n## Summary\n- **Date of Birth:** March 18, 1991  \n- **Job Title:** Digital...",
          "Type: employees<br>Text: - **January 2017 - May 2018**: Marketing Intern  \n  - Supported the Marketing team by collaborating ...",
          "Type: employees<br>Text: - **2021**:  \n  - Performance Rating: Meets Expectations  \n  - Key Achievements: Contributed to the ...",
          "Type: employees<br>Text: - **Professional Development Goals**:  \n  - Emily Tran aims to become a Marketing Manager within the...",
          "Type: employees<br>Text: # HR Record\n\n# Jordan Blake\n\n## Summary\n- **Date of Birth:** March 15, 1993  \n- **Job Title:** Sales...",
          "Type: employees<br>Text: ## Annual Performance History\n- **2021:** First year at Insurellm; achieved 90% of monthly targets. ...",
          "Type: employees<br>Text: ## Other HR Notes\n- Jordan has shown an interest in continuing education, actively participating in ...",
          "Type: employees<br>Text: # HR Record\n\n# Jordan K. Bishop\n\n## Summary\n- **Date of Birth:** March 15, 1990\n- **Job Title:** Fro...",
          "Type: employees<br>Text: ## Annual Performance History\n- **2019:** Exceeds Expectations - Continuously delivered high-quality...",
          "Type: employees<br>Text: ## Compensation History\n- **June 2018:** Starting Salary - $85,000\n- **June 2019:** Salary Increase ...",
          "Type: employees<br>Text: ## Other HR Notes\n- Jordan K. Bishop has been an integral part of club initiatives, including the In...",
          "Type: employees<br>Text: # HR Record\n\n# Maxine Thompson\n\n## Summary\n- **Date of Birth:** January 15, 1991  \n- **Job Title:** ...",
          "Type: employees<br>Text: ## Insurellm Career Progression\n- **January 2017 - October 2018**: **Junior Data Engineer**  \n  * Ma...",
          "Type: employees<br>Text: ## Annual Performance History\n- **2017**: *Meets Expectations*  \n  Maxine showed potential in her ro...",
          "Type: employees<br>Text: - **2021**: *Exceeds Expectations*  \n  Maxine spearheaded the transition to a new data warehousing s...",
          "Type: employees<br>Text: ## Compensation History\n- **2017**: $70,000 (Junior Data Engineer)  \n- **2018**: $75,000 (Junior Dat...",
          "Type: employees<br>Text: # HR Record\n\n# Oliver Spencer\n\n## Summary\n- **Date of Birth**: May 14, 1990  \n- **Job Title**: Backe...",
          "Type: employees<br>Text: ## Annual Performance History\n- **2018**: **3/5** - Adaptable team player but still learning to take...",
          "Type: employees<br>Text: ## Compensation History\n- **March 2018**: Initial salary of $80,000.\n- **July 2019**: Salary increas...",
          "Type: employees<br>Text: # Samantha Greene\n\n## Summary\n- **Date of Birth:** October 14, 1990\n- **Job Title:** HR Generalist\n-...",
          "Type: employees<br>Text: ## Annual Performance History\n- **2020:** Exceeds Expectations  \n  Samantha Greene demonstrated exce...",
          "Type: employees<br>Text: ## Compensation History\n- **2020:** Base Salary - $55,000  \n  The entry-level salary matched industr...",
          "Type: employees<br>Text: - **2023:** Base Salary - $70,000  \n  Recognized for substantial improvement in employee relations m...",
          "Type: employees<br>Text: # HR Record\n\n# Samuel Trenton\n\n## Summary\n- **Date of Birth:** April 12, 1989  \n- **Job Title:** Sen...",
          "Type: employees<br>Text: ## Annual Performance History\n- **2023:** Rating: 4.5/5  \n  *Samuel exceeded expectations, successfu...",
          "Type: employees<br>Text: ## Compensation History\n- **2023:** Base Salary: $115,000 + Bonus: $15,000  \n  *Annual bonus based o...",
          "Type: employees<br>Text: - **Engagement in Company Culture:** Regularly participates in team-building events and contributes ...",
          "Type: products<br>Text: # Product Summary\n\n# Carllm\n\n## Summary\n\nCarllm is an innovative auto insurance product developed by...",
          "Type: products<br>Text: - **Instant Quoting**: With Carllm, insurance companies can offer near-instant quotes to customers, ...",
          "Type: products<br>Text: - **Mobile Integration**: Carllm is designed to work seamlessly with mobile applications, providing ...",
          "Type: products<br>Text: - **Professional Tier**: $2,500/month\n  - For medium-sized companies.\n  - All Basic Tier features pl...",
          "Type: products<br>Text: ### Q2 2025: Customer Experience Improvements\n- Launch of a new **mobile app** for end-users.\n- Intr...",
          "Type: products<br>Text: # Product Summary\n\n# Homellm\n\n## Summary\nHomellm is an innovative home insurance product developed b...",
          "Type: products<br>Text: ### 2. Dynamic Pricing Model\nWith Homellm's innovative dynamic pricing model, insurance providers ca...",
          "Type: products<br>Text: ### 5. Multi-Channel Integration\nHomellm seamlessly integrates into existing insurance platforms, pr...",
          "Type: products<br>Text: - **Basic Tier:** Starting at $5,000/month for small insurers with basic integration features.\n- **S...",
          "Type: products<br>Text: All tiers include a comprehensive training program and ongoing updates to ensure optimal performance...",
          "Type: products<br>Text: With Homellm, Insurellm is committed to transforming the landscape of home insurance, ensuring both ...",
          "Type: products<br>Text: # Product Summary\n\n# Markellm\n\n## Summary\n\nMarkellm is an innovative two-sided marketplace designed ...",
          "Type: products<br>Text: - **User-Friendly Interface**: Designed with user experience in mind, Markellm features an intuitive...",
          "Type: products<br>Text: - **Customer Support**: Our dedicated support team is always available to assist both consumers and ...",
          "Type: products<br>Text: ### For Insurance Companies:\n- **Basic Listing Fee**: $199/month for a featured listing on the platf...",
          "Type: products<br>Text: ### Q3 2025\n- Initiate a comprehensive marketing campaign targeting both consumers and insurers to i...",
          "Type: products<br>Text: # Product Summary\n\n# Rellm: AI-Powered Enterprise Reinsurance Solution\n\n## Summary\n\nRellm is an inno...",
          "Type: products<br>Text: ### Seamless Integrations\nRellm's architecture is designed for effortless integration with existing ...",
          "Type: products<br>Text: ### Regulatory Compliance Tools\nRellm includes built-in compliance tracking features to help organiz...",
          "Type: products<br>Text: Join the growing number of organizations leveraging Rellm to enhance their reinsurance processes whi...",
          "Type: products<br>Text: Experience the future of reinsurance with Rellm, where innovation meets reliability. Let Insurellm h..."
         ],
         "type": "scatter3d",
         "x": [
          0.95230997,
          -4.149454,
          -12.729471,
          -48.75728,
          29.96996,
          -79.756996,
          30.655712,
          60.658485,
          -34.362274,
          -50.72101,
          -15.615494,
          34.407284,
          51.32264,
          -5.4577365,
          -25.591356,
          -29.707903,
          43.117397,
          -29.650646,
          -9.8846655,
          -11.4961405,
          18.670637,
          46.108963,
          31.401337,
          -62.357674,
          -3.8833888,
          17.086128,
          72.12214,
          -37.81481,
          -89.90356,
          -33.292957,
          -3.2665517,
          77.09694,
          -8.044724,
          -16.094301,
          -12.799226,
          -32.687412,
          7.2957444,
          -70.91371,
          -33.03798,
          15.508253,
          -41.899498,
          -50.588795,
          -47.545563,
          -22.534393,
          5.9769607,
          -18.95051,
          -52.24164,
          33.58114,
          1.3529967,
          -63.58257,
          -5.804876,
          13.905012,
          8.321242,
          11.512146,
          -12.062996,
          94.62111,
          -8.221647,
          53.10735,
          26.971216,
          92.253525,
          27.57402,
          77.379715,
          9.2110195,
          52.566174,
          3.0640783,
          13.595929,
          31.359058,
          32.1534,
          51.035828,
          19.115877,
          27.089895,
          56.95464,
          3.979391,
          30.195839,
          35.305458,
          -64.03763,
          -68.47469,
          5.2543054,
          15.310751,
          89.49334,
          30.26163,
          60.207813,
          77.089294,
          1.0354055,
          38.61974,
          60.91318,
          91.24159,
          70.909836,
          24.323812,
          44.39037,
          62.816193,
          72.057625,
          -10.841518,
          53.009396,
          39.710667,
          22.577463,
          4.5183105,
          -111.45305,
          69.7325,
          -66.345146,
          45.485943,
          52.72974,
          -77.97791,
          -56.96537,
          -77.226654,
          67.22436,
          -56.45783,
          -39.18763,
          -54.386715,
          -64.32287,
          -86.05693,
          -82.703766,
          -38.021454,
          -44.73457,
          -38.324356,
          -46.129524,
          -38.352787,
          -36.052418,
          -29.338324,
          -57.806812,
          -69.82137,
          -43.045826,
          -28.325754
         ],
         "y": [
          43.98353,
          66.4988,
          59.155155,
          51.291145,
          -37.92313,
          -6.139845,
          -3.1649022,
          50.02009,
          95.20472,
          22.298862,
          -65.64316,
          22.82909,
          43.02613,
          -65.33972,
          -32.20934,
          -56.31019,
          10.590891,
          31.092642,
          23.938496,
          -10.999141,
          19.259577,
          16.936981,
          -20.95723,
          2.5081024,
          -29.1173,
          -45.7262,
          27.20675,
          -5.156865,
          10.105361,
          12.334063,
          24.820808,
          28.53943,
          73.01426,
          54.17163,
          -5.726855,
          72.4002,
          50.122906,
          25.221664,
          -5.1068764,
          14.11998,
          56.33965,
          26.140436,
          -10.174673,
          -8.99376,
          20.989996,
          20.941175,
          2.983761,
          44.937828,
          92.713,
          -13.231051,
          -31.457489,
          -17.360205,
          68.76389,
          47.32597,
          -27.256388,
          -18.75967,
          -63.159454,
          42.567146,
          -84.07044,
          19.024792,
          52.188225,
          38.195766,
          -23.020351,
          64.16885,
          -75.14487,
          7.911403,
          -35.967167,
          -53.05767,
          -43.036026,
          34.38041,
          -8.408248,
          -28.708487,
          -68.94475,
          7.255396,
          -98.93957,
          -48.188896,
          15.524282,
          -3.12431,
          -99.37626,
          13.175711,
          35.230465,
          20.11605,
          -17.600687,
          -42.394974,
          13.345636,
          -2.9620328,
          -23.235119,
          -63.009453,
          -61.07633,
          -63.703804,
          7.8209968,
          -9.834359,
          -42.41212,
          18.137491,
          -21.770586,
          -42.62554,
          27.406694,
          13.421956,
          -38.226948,
          -38.871162,
          31.722641,
          -69.5882,
          -33.676926,
          -38.133293,
          -36.777943,
          -21.732298,
          -50.76036,
          41.190872,
          24.738174,
          41.52509,
          16.11612,
          41.40229,
          64.07564,
          -71.65336,
          -86.95278,
          -67.75613,
          -44.12836,
          -68.31378,
          3.7605197,
          -0.29029855,
          24.288363,
          -29.742117,
          29.274874
         ],
         "z": [
          -26.03084,
          -44.154663,
          -18.456224,
          -29.283127,
          45.615685,
          -25.070744,
          42.82685,
          39.555832,
          -24.888145,
          105.94331,
          35.903263,
          48.614197,
          65.64826,
          75.82521,
          83.077545,
          69.78249,
          79.67617,
          -12.377092,
          6.240389,
          110.5529,
          13.466482,
          18.247314,
          82.38355,
          90.9118,
          53.051266,
          84.78861,
          37.05311,
          -71.63416,
          60.74228,
          38.109432,
          47.838154,
          60.4929,
          57.16773,
          43.40523,
          41.219894,
          36.60366,
          72.77316,
          93.80151,
          60.202526,
          59.882896,
          73.16806,
          71.1047,
          25.896334,
          9.756785,
          93.34868,
          84.83349,
          -3.5888352,
          6.173315,
          19.216946,
          54.69792,
          15.304248,
          14.923306,
          12.169467,
          31.33804,
          -9.155052,
          -40.191418,
          -51.832165,
          -52.3773,
          22.720585,
          -51.223415,
          -68.14053,
          -72.83947,
          -98.93521,
          -84.547226,
          -6.754943,
          -25.777845,
          -16.83466,
          0.9667877,
          5.3141484,
          -96.42736,
          -19.099566,
          -81.13843,
          -82.90726,
          -70.15497,
          1.8932452,
          91.61329,
          -71.8367,
          -69.04953,
          -37.70802,
          -24.208221,
          -43.80074,
          -16.704805,
          -19.024792,
          -40.16017,
          -104.743065,
          -7.4618607,
          -74.037056,
          -25.20129,
          -42.046017,
          -25.186922,
          -86.835106,
          -45.53183,
          -65.91624,
          -53.541153,
          -52.179005,
          -63.69981,
          -70.69081,
          -14.744607,
          -49.741974,
          -65.92185,
          -82.074356,
          -66.740326,
          0.6896055,
          10.693317,
          30.645332,
          37.070755,
          -19.115812,
          19.372284,
          32.222237,
          9.090849,
          24.680557,
          35.706844,
          2.685455,
          15.242898,
          32.062202,
          46.892284,
          40.346107,
          -10.229751,
          -29.008448,
          -34.21406,
          -20.099495,
          -30.740387,
          -45.92796
         ]
        }
       ],
       "layout": {
        "height": 700,
        "margin": {
         "b": 10,
         "l": 10,
         "r": 20,
         "t": 40
        },
        "scene": {
         "xaxis": {
          "title": {
           "text": "x"
          }
         },
         "yaxis": {
          "title": {
           "text": "y"
          }
         },
         "zaxis": {
          "title": {
           "text": "z"
          }
         }
        },
        "template": {
         "data": {
          "bar": [
           {
            "error_x": {
             "color": "#2a3f5f"
            },
            "error_y": {
             "color": "#2a3f5f"
            },
            "marker": {
             "line": {
              "color": "#E5ECF6",
              "width": 0.5
             },
             "pattern": {
              "fillmode": "overlay",
              "size": 10,
              "solidity": 0.2
             }
            },
            "type": "bar"
           }
          ],
          "barpolar": [
           {
            "marker": {
             "line": {
              "color": "#E5ECF6",
              "width": 0.5
             },
             "pattern": {
              "fillmode": "overlay",
              "size": 10,
              "solidity": 0.2
             }
            },
            "type": "barpolar"
           }
          ],
          "carpet": [
           {
            "aaxis": {
             "endlinecolor": "#2a3f5f",
             "gridcolor": "white",
             "linecolor": "white",
             "minorgridcolor": "white",
             "startlinecolor": "#2a3f5f"
            },
            "baxis": {
             "endlinecolor": "#2a3f5f",
             "gridcolor": "white",
             "linecolor": "white",
             "minorgridcolor": "white",
             "startlinecolor": "#2a3f5f"
            },
            "type": "carpet"
           }
          ],
          "choropleth": [
           {
            "colorbar": {
             "outlinewidth": 0,
             "ticks": ""
            },
            "type": "choropleth"
           }
          ],
          "contour": [
           {
            "colorbar": {
             "outlinewidth": 0,
             "ticks": ""
            },
            "colorscale": [
             [
              0,
              "#0d0887"
             ],
             [
              0.1111111111111111,
              "#46039f"
             ],
             [
              0.2222222222222222,
              "#7201a8"
             ],
             [
              0.3333333333333333,
              "#9c179e"
             ],
             [
              0.4444444444444444,
              "#bd3786"
             ],
             [
              0.5555555555555556,
              "#d8576b"
             ],
             [
              0.6666666666666666,
              "#ed7953"
             ],
             [
              0.7777777777777778,
              "#fb9f3a"
             ],
             [
              0.8888888888888888,
              "#fdca26"
             ],
             [
              1,
              "#f0f921"
             ]
            ],
            "type": "contour"
           }
          ],
          "contourcarpet": [
           {
            "colorbar": {
             "outlinewidth": 0,
             "ticks": ""
            },
            "type": "contourcarpet"
           }
          ],
          "heatmap": [
           {
            "colorbar": {
             "outlinewidth": 0,
             "ticks": ""
            },
            "colorscale": [
             [
              0,
              "#0d0887"
             ],
             [
              0.1111111111111111,
              "#46039f"
             ],
             [
              0.2222222222222222,
              "#7201a8"
             ],
             [
              0.3333333333333333,
              "#9c179e"
             ],
             [
              0.4444444444444444,
              "#bd3786"
             ],
             [
              0.5555555555555556,
              "#d8576b"
             ],
             [
              0.6666666666666666,
              "#ed7953"
             ],
             [
              0.7777777777777778,
              "#fb9f3a"
             ],
             [
              0.8888888888888888,
              "#fdca26"
             ],
             [
              1,
              "#f0f921"
             ]
            ],
            "type": "heatmap"
           }
          ],
          "heatmapgl": [
           {
            "colorbar": {
             "outlinewidth": 0,
             "ticks": ""
            },
            "colorscale": [
             [
              0,
              "#0d0887"
             ],
             [
              0.1111111111111111,
              "#46039f"
             ],
             [
              0.2222222222222222,
              "#7201a8"
             ],
             [
              0.3333333333333333,
              "#9c179e"
             ],
             [
              0.4444444444444444,
              "#bd3786"
             ],
             [
              0.5555555555555556,
              "#d8576b"
             ],
             [
              0.6666666666666666,
              "#ed7953"
             ],
             [
              0.7777777777777778,
              "#fb9f3a"
             ],
             [
              0.8888888888888888,
              "#fdca26"
             ],
             [
              1,
              "#f0f921"
             ]
            ],
            "type": "heatmapgl"
           }
          ],
          "histogram": [
           {
            "marker": {
             "pattern": {
              "fillmode": "overlay",
              "size": 10,
              "solidity": 0.2
             }
            },
            "type": "histogram"
           }
          ],
          "histogram2d": [
           {
            "colorbar": {
             "outlinewidth": 0,
             "ticks": ""
            },
            "colorscale": [
             [
              0,
              "#0d0887"
             ],
             [
              0.1111111111111111,
              "#46039f"
             ],
             [
              0.2222222222222222,
              "#7201a8"
             ],
             [
              0.3333333333333333,
              "#9c179e"
             ],
             [
              0.4444444444444444,
              "#bd3786"
             ],
             [
              0.5555555555555556,
              "#d8576b"
             ],
             [
              0.6666666666666666,
              "#ed7953"
             ],
             [
              0.7777777777777778,
              "#fb9f3a"
             ],
             [
              0.8888888888888888,
              "#fdca26"
             ],
             [
              1,
              "#f0f921"
             ]
            ],
            "type": "histogram2d"
           }
          ],
          "histogram2dcontour": [
           {
            "colorbar": {
             "outlinewidth": 0,
             "ticks": ""
            },
            "colorscale": [
             [
              0,
              "#0d0887"
             ],
             [
              0.1111111111111111,
              "#46039f"
             ],
             [
              0.2222222222222222,
              "#7201a8"
             ],
             [
              0.3333333333333333,
              "#9c179e"
             ],
             [
              0.4444444444444444,
              "#bd3786"
             ],
             [
              0.5555555555555556,
              "#d8576b"
             ],
             [
              0.6666666666666666,
              "#ed7953"
             ],
             [
              0.7777777777777778,
              "#fb9f3a"
             ],
             [
              0.8888888888888888,
              "#fdca26"
             ],
             [
              1,
              "#f0f921"
             ]
            ],
            "type": "histogram2dcontour"
           }
          ],
          "mesh3d": [
           {
            "colorbar": {
             "outlinewidth": 0,
             "ticks": ""
            },
            "type": "mesh3d"
           }
          ],
          "parcoords": [
           {
            "line": {
             "colorbar": {
              "outlinewidth": 0,
              "ticks": ""
             }
            },
            "type": "parcoords"
           }
          ],
          "pie": [
           {
            "automargin": true,
            "type": "pie"
           }
          ],
          "scatter": [
           {
            "fillpattern": {
             "fillmode": "overlay",
             "size": 10,
             "solidity": 0.2
            },
            "type": "scatter"
           }
          ],
          "scatter3d": [
           {
            "line": {
             "colorbar": {
              "outlinewidth": 0,
              "ticks": ""
             }
            },
            "marker": {
             "colorbar": {
              "outlinewidth": 0,
              "ticks": ""
             }
            },
            "type": "scatter3d"
           }
          ],
          "scattercarpet": [
           {
            "marker": {
             "colorbar": {
              "outlinewidth": 0,
              "ticks": ""
             }
            },
            "type": "scattercarpet"
           }
          ],
          "scattergeo": [
           {
            "marker": {
             "colorbar": {
              "outlinewidth": 0,
              "ticks": ""
             }
            },
            "type": "scattergeo"
           }
          ],
          "scattergl": [
           {
            "marker": {
             "colorbar": {
              "outlinewidth": 0,
              "ticks": ""
             }
            },
            "type": "scattergl"
           }
          ],
          "scattermapbox": [
           {
            "marker": {
             "colorbar": {
              "outlinewidth": 0,
              "ticks": ""
             }
            },
            "type": "scattermapbox"
           }
          ],
          "scatterpolar": [
           {
            "marker": {
             "colorbar": {
              "outlinewidth": 0,
              "ticks": ""
             }
            },
            "type": "scatterpolar"
           }
          ],
          "scatterpolargl": [
           {
            "marker": {
             "colorbar": {
              "outlinewidth": 0,
              "ticks": ""
             }
            },
            "type": "scatterpolargl"
           }
          ],
          "scatterternary": [
           {
            "marker": {
             "colorbar": {
              "outlinewidth": 0,
              "ticks": ""
             }
            },
            "type": "scatterternary"
           }
          ],
          "surface": [
           {
            "colorbar": {
             "outlinewidth": 0,
             "ticks": ""
            },
            "colorscale": [
             [
              0,
              "#0d0887"
             ],
             [
              0.1111111111111111,
              "#46039f"
             ],
             [
              0.2222222222222222,
              "#7201a8"
             ],
             [
              0.3333333333333333,
              "#9c179e"
             ],
             [
              0.4444444444444444,
              "#bd3786"
             ],
             [
              0.5555555555555556,
              "#d8576b"
             ],
             [
              0.6666666666666666,
              "#ed7953"
             ],
             [
              0.7777777777777778,
              "#fb9f3a"
             ],
             [
              0.8888888888888888,
              "#fdca26"
             ],
             [
              1,
              "#f0f921"
             ]
            ],
            "type": "surface"
           }
          ],
          "table": [
           {
            "cells": {
             "fill": {
              "color": "#EBF0F8"
             },
             "line": {
              "color": "white"
             }
            },
            "header": {
             "fill": {
              "color": "#C8D4E3"
             },
             "line": {
              "color": "white"
             }
            },
            "type": "table"
           }
          ]
         },
         "layout": {
          "annotationdefaults": {
           "arrowcolor": "#2a3f5f",
           "arrowhead": 0,
           "arrowwidth": 1
          },
          "autotypenumbers": "strict",
          "coloraxis": {
           "colorbar": {
            "outlinewidth": 0,
            "ticks": ""
           }
          },
          "colorscale": {
           "diverging": [
            [
             0,
             "#8e0152"
            ],
            [
             0.1,
             "#c51b7d"
            ],
            [
             0.2,
             "#de77ae"
            ],
            [
             0.3,
             "#f1b6da"
            ],
            [
             0.4,
             "#fde0ef"
            ],
            [
             0.5,
             "#f7f7f7"
            ],
            [
             0.6,
             "#e6f5d0"
            ],
            [
             0.7,
             "#b8e186"
            ],
            [
             0.8,
             "#7fbc41"
            ],
            [
             0.9,
             "#4d9221"
            ],
            [
             1,
             "#276419"
            ]
           ],
           "sequential": [
            [
             0,
             "#0d0887"
            ],
            [
             0.1111111111111111,
             "#46039f"
            ],
            [
             0.2222222222222222,
             "#7201a8"
            ],
            [
             0.3333333333333333,
             "#9c179e"
            ],
            [
             0.4444444444444444,
             "#bd3786"
            ],
            [
             0.5555555555555556,
             "#d8576b"
            ],
            [
             0.6666666666666666,
             "#ed7953"
            ],
            [
             0.7777777777777778,
             "#fb9f3a"
            ],
            [
             0.8888888888888888,
             "#fdca26"
            ],
            [
             1,
             "#f0f921"
            ]
           ],
           "sequentialminus": [
            [
             0,
             "#0d0887"
            ],
            [
             0.1111111111111111,
             "#46039f"
            ],
            [
             0.2222222222222222,
             "#7201a8"
            ],
            [
             0.3333333333333333,
             "#9c179e"
            ],
            [
             0.4444444444444444,
             "#bd3786"
            ],
            [
             0.5555555555555556,
             "#d8576b"
            ],
            [
             0.6666666666666666,
             "#ed7953"
            ],
            [
             0.7777777777777778,
             "#fb9f3a"
            ],
            [
             0.8888888888888888,
             "#fdca26"
            ],
            [
             1,
             "#f0f921"
            ]
           ]
          },
          "colorway": [
           "#636efa",
           "#EF553B",
           "#00cc96",
           "#ab63fa",
           "#FFA15A",
           "#19d3f3",
           "#FF6692",
           "#B6E880",
           "#FF97FF",
           "#FECB52"
          ],
          "font": {
           "color": "#2a3f5f"
          },
          "geo": {
           "bgcolor": "white",
           "lakecolor": "white",
           "landcolor": "#E5ECF6",
           "showlakes": true,
           "showland": true,
           "subunitcolor": "white"
          },
          "hoverlabel": {
           "align": "left"
          },
          "hovermode": "closest",
          "mapbox": {
           "style": "light"
          },
          "paper_bgcolor": "white",
          "plot_bgcolor": "#E5ECF6",
          "polar": {
           "angularaxis": {
            "gridcolor": "white",
            "linecolor": "white",
            "ticks": ""
           },
           "bgcolor": "#E5ECF6",
           "radialaxis": {
            "gridcolor": "white",
            "linecolor": "white",
            "ticks": ""
           }
          },
          "scene": {
           "xaxis": {
            "backgroundcolor": "#E5ECF6",
            "gridcolor": "white",
            "gridwidth": 2,
            "linecolor": "white",
            "showbackground": true,
            "ticks": "",
            "zerolinecolor": "white"
           },
           "yaxis": {
            "backgroundcolor": "#E5ECF6",
            "gridcolor": "white",
            "gridwidth": 2,
            "linecolor": "white",
            "showbackground": true,
            "ticks": "",
            "zerolinecolor": "white"
           },
           "zaxis": {
            "backgroundcolor": "#E5ECF6",
            "gridcolor": "white",
            "gridwidth": 2,
            "linecolor": "white",
            "showbackground": true,
            "ticks": "",
            "zerolinecolor": "white"
           }
          },
          "shapedefaults": {
           "line": {
            "color": "#2a3f5f"
           }
          },
          "ternary": {
           "aaxis": {
            "gridcolor": "white",
            "linecolor": "white",
            "ticks": ""
           },
           "baxis": {
            "gridcolor": "white",
            "linecolor": "white",
            "ticks": ""
           },
           "bgcolor": "#E5ECF6",
           "caxis": {
            "gridcolor": "white",
            "linecolor": "white",
            "ticks": ""
           }
          },
          "title": {
           "x": 0.05
          },
          "xaxis": {
           "automargin": true,
           "gridcolor": "white",
           "linecolor": "white",
           "ticks": "",
           "title": {
            "standoff": 15
           },
           "zerolinecolor": "white",
           "zerolinewidth": 2
          },
          "yaxis": {
           "automargin": true,
           "gridcolor": "white",
           "linecolor": "white",
           "ticks": "",
           "title": {
            "standoff": 15
           },
           "zerolinecolor": "white",
           "zerolinewidth": 2
          }
         }
        },
        "title": {
         "text": "3D Chroma Vector Store Visualization"
        },
        "width": 900
       }
      }
     },
     "metadata": {},
     "output_type": "display_data"
    }
   ],
   "source": [
    "# Let's try 3D!\n",
    "\n",
    "tsne = TSNE(n_components=3, random_state=42)\n",
    "reduced_vectors = tsne.fit_transform(vectors)\n",
    "\n",
    "# Create the 3D scatter plot\n",
    "fig = go.Figure(data=[go.Scatter3d(\n",
    "    x=reduced_vectors[:, 0],\n",
    "    y=reduced_vectors[:, 1],\n",
    "    z=reduced_vectors[:, 2],\n",
    "    mode='markers',\n",
    "    marker=dict(size=5, color=colors, opacity=0.8),\n",
    "    text=[f\"Type: {t}<br>Text: {d[:100]}...\" for t, d in zip(doc_types, documents)],\n",
    "    hoverinfo='text'\n",
    ")])\n",
    "\n",
    "fig.update_layout(\n",
    "    title='3D Chroma Vector Store Visualization',\n",
    "    scene=dict(xaxis_title='x', yaxis_title='y', zaxis_title='z'),\n",
    "    width=900,\n",
    "    height=700,\n",
    "    margin=dict(r=20, b=10, l=10, t=40)\n",
    ")\n",
    "\n",
    "fig.show()"
   ]
  },
  {
   "cell_type": "code",
   "execution_count": null,
   "id": "9b3ada26-b4b7-42fc-b943-933c14adf89b",
   "metadata": {},
   "outputs": [],
   "source": []
  }
 ],
 "metadata": {
  "kernelspec": {
   "display_name": "llms",
   "language": "python",
   "name": "python3"
  },
  "language_info": {
   "codemirror_mode": {
    "name": "ipython",
    "version": 3
   },
   "file_extension": ".py",
   "mimetype": "text/x-python",
   "name": "python",
   "nbconvert_exporter": "python",
   "pygments_lexer": "ipython3",
   "version": "3.11.11"
  }
 },
 "nbformat": 4,
 "nbformat_minor": 5
}
